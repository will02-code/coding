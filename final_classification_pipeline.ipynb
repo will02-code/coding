{
 "cells": [
  {
   "cell_type": "markdown",
   "metadata": {},
   "source": [
    "This is the final version of the training workflow/pipeline"
   ]
  },
  {
   "cell_type": "code",
   "execution_count": 1,
   "metadata": {
    "vscode": {
     "languageId": "python"
    }
   },
   "outputs": [],
   "source": [
    "# import the necessary libraries\n",
    "from ultralytics import YOLO\n",
    "import os\n",
    "import shutil\n",
    "from megadetector.detection import run_detector\n",
    "import cv2\n",
    "import pandas as pd\n",
    "from PIL import Image\n",
    "from matplotlib import pyplot as plt\n",
    "import re\n",
    "%matplotlib inline"
   ]
  },
  {
   "cell_type": "code",
   "execution_count": 3,
   "metadata": {
    "vscode": {
     "languageId": "python"
    }
   },
   "outputs": [
    {
     "name": "stdout",
     "output_type": "stream",
     "text": [
      "Bypassing download of already-downloaded file md_v5a.0.0.pt\n",
      "Model v5a.0.0 available at C:\\Users\\willo\\AppData\\Local\\Temp\\megadetector_models\\md_v5a.0.0.pt\n",
      "Loading PT detector with compatibility mode classic\n"
     ]
    },
    {
     "name": "stderr",
     "output_type": "stream",
     "text": [
      "Fusing layers... \n",
      "Fusing layers... \n",
      "Model summary: 733 layers, 140054656 parameters, 0 gradients, 208.8 GFLOPs\n",
      "Model summary: 733 layers, 140054656 parameters, 0 gradients, 208.8 GFLOPs\n"
     ]
    }
   ],
   "source": [
    "# megadetector = run_detector.load_detector('MDV5A')\n",
    "def crop_image_normalized(img, normalized_coords):\n",
    "    try:\n",
    "        \n",
    "        height, width, _ = img.shape\n",
    "        x_min = int(normalized_coords[0] * width)\n",
    "        y_min = int(normalized_coords[1] * height)\n",
    "        box_width = int(normalized_coords[2] * width)\n",
    "        box_height = int(normalized_coords[3] * height)\n",
    "        # Crop the image\n",
    "        cropped_img = image[y_min:y_min + box_height, x_min:x_min + box_width]\n",
    "        return cropped_img\n",
    "\n",
    "    except FileNotFoundError:\n",
    "        print(f\"Error: Image not found at {image_path}\")\n",
    "        return None\n",
    "    except ValueError:\n",
    "        print(f\"Error: Invalid normalized coordinates format: {normalized_coords}. Expected 'x y w h'.\")\n",
    "        return None"
   ]
  },
  {
   "cell_type": "code",
   "execution_count": null,
   "metadata": {
    "vscode": {
     "languageId": "python"
    }
   },
   "outputs": [
    {
     "name": "stdout",
     "output_type": "stream",
     "text": [
      "Processing image: E:\\Wild deserts photos\\2024_11_WCAM_originals\\WCAM16\\RCNX0054.JPG\n",
      "Image is a day image\n",
      "\n",
      "0: 224x224 Kangaroo 1.00, Dingo 0.00, Rabbit 0.00, Cat 0.00, 152.5ms\n",
      "Speed: 7.0ms preprocess, 152.5ms inference, 0.0ms postprocess per image at shape (1, 3, 224, 224)\n",
      "Saving to E:\\Wild deserts photos\\2024_11_WCAM_originals\\WCAM16\\training\\day\\Kangaroo\n",
      "\n",
      "0: 224x224 Kangaroo 1.00, Dingo 0.00, Rabbit 0.00, Cat 0.00, 154.1ms\n",
      "Speed: 12.0ms preprocess, 154.1ms inference, 0.0ms postprocess per image at shape (1, 3, 224, 224)\n",
      "Saving to E:\\Wild deserts photos\\2024_11_WCAM_originals\\WCAM16\\training\\day\\Kangaroo\n",
      "Processing image: E:\\Wild deserts photos\\2024_11_WCAM_originals\\WCAM16\\RCNX0050.JPG\n",
      "Image is a day image\n",
      "\n",
      "0: 224x224 Kangaroo 1.00, Rabbit 0.00, Dingo 0.00, Cat 0.00, 196.2ms\n",
      "Speed: 6.0ms preprocess, 196.2ms inference, 0.0ms postprocess per image at shape (1, 3, 224, 224)\n",
      "Saving to E:\\Wild deserts photos\\2024_11_WCAM_originals\\WCAM16\\training\\day\\Kangaroo\n",
      "\n",
      "0: 224x224 Kangaroo 1.00, Dingo 0.00, Rabbit 0.00, Cat 0.00, 188.1ms\n",
      "Speed: 11.0ms preprocess, 188.1ms inference, 0.0ms postprocess per image at shape (1, 3, 224, 224)\n",
      "Saving to E:\\Wild deserts photos\\2024_11_WCAM_originals\\WCAM16\\training\\day\\Kangaroo\n",
      "Processing image: E:\\Wild deserts photos\\2024_11_WCAM_originals\\WCAM16\\RCNX0051.JPG\n",
      "Image is a day image\n",
      "\n",
      "0: 224x224 Kangaroo 1.00, Dingo 0.00, Rabbit 0.00, Cat 0.00, 218.4ms\n",
      "Speed: 6.0ms preprocess, 218.4ms inference, 0.0ms postprocess per image at shape (1, 3, 224, 224)\n",
      "Saving to E:\\Wild deserts photos\\2024_11_WCAM_originals\\WCAM16\\training\\day\\Kangaroo\n",
      "\n",
      "0: 224x224 Kangaroo 1.00, Dingo 0.00, Cat 0.00, Rabbit 0.00, 184.6ms\n",
      "Speed: 14.0ms preprocess, 184.6ms inference, 0.0ms postprocess per image at shape (1, 3, 224, 224)\n",
      "Saving to E:\\Wild deserts photos\\2024_11_WCAM_originals\\WCAM16\\training\\day\\Kangaroo\n",
      "Processing image: E:\\Wild deserts photos\\2024_11_WCAM_originals\\WCAM16\\RCNX0052.JPG\n",
      "Image is a day image\n",
      "\n",
      "0: 224x224 Kangaroo 1.00, Dingo 0.00, Rabbit 0.00, Cat 0.00, 158.1ms\n",
      "Speed: 5.0ms preprocess, 158.1ms inference, 0.0ms postprocess per image at shape (1, 3, 224, 224)\n",
      "Saving to E:\\Wild deserts photos\\2024_11_WCAM_originals\\WCAM16\\training\\day\\Kangaroo\n",
      "\n",
      "0: 224x224 Kangaroo 1.00, Dingo 0.00, Rabbit 0.00, Cat 0.00, 154.8ms\n",
      "Speed: 11.0ms preprocess, 154.8ms inference, 0.0ms postprocess per image at shape (1, 3, 224, 224)\n",
      "Saving to E:\\Wild deserts photos\\2024_11_WCAM_originals\\WCAM16\\training\\day\\Kangaroo\n",
      "Processing image: E:\\Wild deserts photos\\2024_11_WCAM_originals\\WCAM16\\RCNX0053.JPG\n",
      "Image is a day image\n",
      "\n",
      "0: 224x224 Kangaroo 1.00, Dingo 0.00, Rabbit 0.00, Cat 0.00, 180.6ms\n",
      "Speed: 6.0ms preprocess, 180.6ms inference, 0.0ms postprocess per image at shape (1, 3, 224, 224)\n",
      "Saving to E:\\Wild deserts photos\\2024_11_WCAM_originals\\WCAM16\\training\\day\\Kangaroo\n",
      "\n",
      "0: 224x224 Kangaroo 1.00, Dingo 0.00, Rabbit 0.00, Cat 0.00, 152.0ms\n",
      "Speed: 11.0ms preprocess, 152.0ms inference, 0.0ms postprocess per image at shape (1, 3, 224, 224)\n",
      "Saving to E:\\Wild deserts photos\\2024_11_WCAM_originals\\WCAM16\\training\\day\\Kangaroo\n",
      "Processing image: E:\\Wild deserts photos\\2024_11_WCAM_originals\\WCAM16\\RCNX0172.JPG\n",
      "Image is a night image\n",
      "\n",
      "0: 224x224 Kangaroo 1.00, Dingo 0.00, Cat 0.00, blobs 0.00, Rabbit 0.00, 163.5ms\n",
      "Speed: 7.0ms preprocess, 163.5ms inference, 0.0ms postprocess per image at shape (1, 3, 224, 224)\n",
      "Saving to E:\\Wild deserts photos\\2024_11_WCAM_originals\\WCAM16\\training\\night\\Kangaroo\n",
      "Processing image: E:\\Wild deserts photos\\2024_11_WCAM_originals\\WCAM16\\RCNX0166.JPG\n",
      "Image is a night image\n",
      "\n",
      "0: 224x224 Rabbit 1.00, Kangaroo 0.00, Quoll 0.00, Cat 0.00, Bilby 0.00, 176.4ms\n",
      "Speed: 4.0ms preprocess, 176.4ms inference, 0.0ms postprocess per image at shape (1, 3, 224, 224)\n",
      "Saving to E:\\Wild deserts photos\\2024_11_WCAM_originals\\WCAM16\\training\\night\\Rabbit\n",
      "Processing image: E:\\Wild deserts photos\\2024_11_WCAM_originals\\WCAM16\\RCNX0167.JPG\n",
      "Image is a night image\n",
      "\n",
      "0: 224x224 Rabbit 0.96, Cat 0.03, Dingo 0.01, Fox 0.00, Kangaroo 0.00, 205.0ms\n",
      "Speed: 6.7ms preprocess, 205.0ms inference, 0.0ms postprocess per image at shape (1, 3, 224, 224)\n",
      "Saving to E:\\Wild deserts photos\\2024_11_WCAM_originals\\WCAM16\\training\\night\\Rabbit\n",
      "Processing image: E:\\Wild deserts photos\\2024_11_WCAM_originals\\WCAM16\\RCNX0168.JPG\n",
      "Image is a night image\n",
      "\n",
      "0: 224x224 Rabbit 0.98, Cat 0.01, Dingo 0.00, Fox 0.00, Kangaroo 0.00, 167.6ms\n",
      "Speed: 5.0ms preprocess, 167.6ms inference, 1.0ms postprocess per image at shape (1, 3, 224, 224)\n",
      "Saving to E:\\Wild deserts photos\\2024_11_WCAM_originals\\WCAM16\\training\\night\\Rabbit\n",
      "Processing image: E:\\Wild deserts photos\\2024_11_WCAM_originals\\WCAM16\\RCNX0169.JPG\n",
      "Image is a night image\n",
      "Processing image: E:\\Wild deserts photos\\2024_11_WCAM_originals\\WCAM16\\RCNX0170.JPG\n",
      "Image is a night image\n",
      "Processing image: E:\\Wild deserts photos\\2024_11_WCAM_originals\\WCAM16\\RCNX0171.JPG\n",
      "Image is a night image\n"
     ]
    }
   ],
   "source": [
    "all_detections = []\n",
    "image_source_directory = \"E:\\\\Wild deserts photos\\\\2024_11_WCAM_originals\\\\WCAM15\"\n",
    "image_training_output = f\"{image_source_directory}\\\\training\"\n",
    "image_paths = []\n",
    "for dirpath, dirnames, filenames in os.walk(image_source_directory):\n",
    "    for filename in filenames:\n",
    "        if filename.endswith(\".JPG\"):\n",
    "            image_path = os.path.join(dirpath, filename)\n",
    "            image_paths.append(image_path)\n",
    "for image_path in image_paths:\n",
    "# try:\n",
    "    print(f\"Processing image: {image_path}\")\n",
    "    # get time of day from image\n",
    "    image = cv2.imread(image_path)\n",
    "    hsv_image = cv2.cvtColor(image, cv2.COLOR_BGR2HSV)\n",
    "    hue = hsv_image[:, :, 0].mean()  # H channel represents hue\n",
    "    # Adjust the thresholds as needed\n",
    "    if hue > 10:\n",
    "        model_required = 'day'\n",
    "    else:\n",
    "        model_required = 'night'\n",
    "\n",
    "    print(f\"Image is a {model_required} image\")\n",
    "\n",
    "    if model_required == 'night':\n",
    "        model = YOLO(\"E:\\\\Wild deserts photos\\\\model_training\\\\runs\\\\classify\\\\classificationv1_night\\\\weights\\\\best.pt\")\n",
    "    else:\n",
    "        model = YOLO(\"E:\\\\Wild deserts photos\\\\model_training\\\\runs\\\\classify\\\\classificationv1_day\\\\weights\\\\best.pt\")\n",
    "\n",
    "\n",
    "    camera = re.search(r'WCAM(\\d+)', image_path)[0]\n",
    "    detections = megadetector.generate_detections_one_image(image)\n",
    "    datetime = Image.open(image_path)._getexif()[36867].replace(' ', '_').replace(':', '_')\n",
    "    above = [d for d in detections['detections'] if (d['conf'] > 0.7) and (d['category'] == '1')]\n",
    "    for idx, detection in enumerate(above):\n",
    "        bbox_normalized = detection['bbox']\n",
    "        cropped_img = crop_image_normalized(image, bbox_normalized)\n",
    "        \n",
    "        result = model.predict(\n",
    "            cropped_img, \n",
    "            save=False, # I don't save anything here because I want to sort into folders\n",
    "            save_txt=False,\n",
    "            save_conf=False)[0]\n",
    "        species = result.names[result.probs.top1]\n",
    "        conf = int(result.probs.top1conf)\n",
    "        output_dir = f\"{image_training_output}\\\\{model_required}\\\\{species}\"\n",
    "        print(f\"Saving to {output_dir}\")\n",
    "        os.makedirs(output_dir, exist_ok=True)\n",
    "        output_filename = f\"{output_dir}\\\\{camera}_{datetime}_{species}_{idx}.jpg\"\n",
    "        cv2.imwrite(output_filename, cropped_img)\n",
    "        df = pd.DataFrame({\n",
    "                    'original_path': [image_path],\n",
    "                    'cropped_path': [output_filename],\n",
    "                    'species': [species],\n",
    "                    'confidence': [conf],\n",
    "                    'bbox': [bbox_normalized],\n",
    "                    'time': [datetime],\n",
    "                    'model': [model_required],\n",
    "                    'camera': [camera] \n",
    "                })\n",
    "        all_detections.append(df)\n",
    "# except Exception as e:\n",
    "#     print(f\"Error processing {image_path}: {e}\")\n",
    "if all_detections:\n",
    "    final_df = pd.concat(all_detections, ignore_index=True)\n",
    "    final_df.to_csv(f\"{image_source_directory}\\\\output_{camera}.csv\", index=False)\n"
   ]
  }
 ],
 "metadata": {
  "language_info": {
   "name": "plaintext"
  }
 },
 "nbformat": 4,
 "nbformat_minor": 2
}
