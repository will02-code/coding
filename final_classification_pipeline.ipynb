{
 "cells": [
  {
   "cell_type": "markdown",
   "metadata": {},
   "source": [
    "This is the final version of the training workflow/pipeline"
   ]
  },
  {
   "cell_type": "code",
   "execution_count": null,
   "metadata": {
    "vscode": {
     "languageId": "python"
    }
   },
   "outputs": [],
   "source": [
    "# import the necessary libraries\n",
    "from ultralytics import YOLO\n",
    "import os\n",
    "import shutil\n",
    "from megadetector.detection import run_detector\n",
    "import cv2\n",
    "import pandas as pd\n",
    "from PIL import Image"
   ]
  },
  {
   "cell_type": "code",
   "execution_count": null,
   "metadata": {
    "vscode": {
     "languageId": "python"
    }
   },
   "outputs": [],
   "source": [
    "# megadetector = run_detector.load_detector('MDV5A')\n",
    "def crop_image_normalized(img, normalized_coords):\n",
    "    print(img, normalized_coords)\n",
    "    try:\n",
    "        \n",
    "        width, height = img.size\n",
    "\n",
    "        x_center_norm, y_center_norm, w_norm, h_norm = map(float, normalized_coords[0:4])\n",
    "        # Convert normalized coordinates to pixel coordinates\n",
    "        x_center = x_center_norm * width\n",
    "        y_center = y_center_norm * height\n",
    "        w = w_norm * width\n",
    "        h = h_norm * height\n",
    "\n",
    "        # Calculate the coordinates of the bounding box\n",
    "        left = int(x_center - w / 2)\n",
    "        top = int(y_center - h / 2)\n",
    "        right = int(x_center + w / 2)\n",
    "        bottom = int(y_center + h / 2)\n",
    "\n",
    "        # Ensure the bounding box is within the image boundaries\n",
    "        left = max(0, left)\n",
    "        top = max(0, top)\n",
    "        right = min(width, right)\n",
    "        bottom = min(height, bottom)\n",
    "\n",
    "        # Crop the image\n",
    "        cropped_img = img.crop((left, top, right, bottom))\n",
    "        return cropped_img\n",
    "\n",
    "    except FileNotFoundError:\n",
    "        print(f\"Error: Image not found at {image_path}\")\n",
    "        return None\n",
    "    except ValueError:\n",
    "        print(f\"Error: Invalid normalized coordinates format: {normalized_coords}. Expected 'x y w h'.\")\n",
    "        return None"
   ]
  },
  {
   "cell_type": "code",
   "execution_count": null,
   "metadata": {
    "vscode": {
     "languageId": "python"
    }
   },
   "outputs": [],
   "source": [
    "image_source_directory = \"E:\\\\Wild deserts photos\\\\2024_11_WCAM_originals\\\\WCAM01\\\\night\"\n",
    "# for image in os.listdir(image_source_directory):\n",
    "#     image_path = os.path.join(image_source_directory, image)\n",
    "image_path = \"E:\\\\Wild deserts photos\\\\2024_11_WCAM_originals\\\\WCAM01\\\\night\\\\RCNX0119.JPG\"\n",
    "\n",
    "# get time of day from image\n",
    "image = cv2.imread(image_path)\n",
    "hsv_image = cv2.cvtColor(image, cv2.COLOR_BGR2HSV)\n",
    "hue = hsv_image[:, :, 0].mean()  # H channel represents hue\n",
    "# Adjust the thresholds as needed\n",
    "if hue > 10:\n",
    "    model_required = 'day'\n",
    "else:\n",
    "    model_required = 'night'\n",
    "\n",
    "\n",
    "if model_required == 'night':\n",
    "    model = YOLO(\"E:\\\\Wild deserts photos\\\\model_training\\\\runs\\\\classify\\\\classificationv1\\\\weights\\\\best.pt\")\n",
    "\n",
    "detections = megadetector.generate_detections_one_image(image)\n"
   ]
  },
  {
   "cell_type": "code",
   "execution_count": null,
   "metadata": {
    "vscode": {
     "languageId": "python"
    }
   },
   "outputs": [],
   "source": [
    "above = [d for d in detections['detections'] if (d['conf'] > 0.7) and (d['category'] == 1)]\n"
   ]
  },
  {
   "cell_type": "code",
   "execution_count": null,
   "metadata": {
    "vscode": {
     "languageId": "python"
    }
   },
   "outputs": [],
   "source": [
    "for detection in above:\n",
    "    x, y, w, h = detection['bbox']\n",
    "    cropped = \n",
    "    cropped.show()\n"
   ]
  },
  {
   "cell_type": "code",
   "execution_count": null,
   "metadata": {
    "vscode": {
     "languageId": "python"
    }
   },
   "outputs": [],
   "source": [
    "image."
   ]
  },
  {
   "cell_type": "code",
   "execution_count": null,
   "metadata": {
    "vscode": {
     "languageId": "python"
    }
   },
   "outputs": [],
   "source": [
    "crop_image_normalized(image, [x, y, w, h])"
   ]
  }
 ],
 "metadata": {
  "language_info": {
   "name": "plaintext"
  }
 },
 "nbformat": 4,
 "nbformat_minor": 2
}
