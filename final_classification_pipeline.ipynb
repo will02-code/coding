{
 "cells": [
  {
   "cell_type": "markdown",
   "metadata": {},
   "source": [
    "This is the final version of the training workflow/pipeline"
   ]
  },
  {
   "cell_type": "code",
   "execution_count": 1,
   "metadata": {},
   "outputs": [],
   "source": [
    "# import the necessary libraries\n",
    "from ultralytics import YOLO\n",
    "import os\n",
    "import shutil\n",
    "from megadetector.detection import run_detector\n",
    "import cv2\n",
    "import pandas as pd\n",
    "from PIL import Image\n",
    "from matplotlib import pyplot as plt\n",
    "import re\n",
    "%matplotlib inline"
   ]
  },
  {
   "cell_type": "code",
   "execution_count": 2,
   "metadata": {},
   "outputs": [],
   "source": [
    "def crop_image_normalized(img, normalized_coords):      \n",
    "    try:\n",
    "        \n",
    "        \n",
    "        x_min = bbox_normalized[0][0].int().item()\n",
    "        y_min = bbox_normalized[0][1].int().item()\n",
    "        x_max = bbox_normalized[0][2].int().item()\n",
    "        y_max = bbox_normalized[0][3].int().item()\n",
    "        \n",
    "        cropped_img = image[y_min:y_max, x_min:x_max]\n",
    "        return cropped_img\n",
    "\n",
    "    except FileNotFoundError:\n",
    "        print(f\"Error: Image not found at {image_path}\")\n",
    "        return None\n",
    "    except ValueError:\n",
    "        print(f\"Error: Invalid normalized coordinates format: {normalized_coords}. Expected 'x y w h'.\")\n",
    "        return None"
   ]
  },
  {
   "cell_type": "code",
   "execution_count": null,
   "metadata": {},
   "outputs": [
    {
     "name": "stdout",
     "output_type": "stream",
     "text": [
      "Processing image: E:\\Wild deserts photos\\2024_11_WCAM_originals\\WCAM16\\RCNX0020.JPG\n",
      "Image is a night image\n",
      "\n",
      "0: 480x640 1 item, 1791.4ms\n",
      "Speed: 11.2ms preprocess, 1791.4ms inference, 2.0ms postprocess per image at shape (1, 3, 480, 640)\n",
      "\n",
      "0: 224x224 Kangaroo 0.95, Dingo 0.02, Cat 0.01, Rabbit 0.01, Fox 0.00, 214.3ms\n",
      "Speed: 7.6ms preprocess, 214.3ms inference, 0.0ms postprocess per image at shape (1, 3, 224, 224)\n",
      "Saving to E:\\Wild deserts photos\\2024_11_WCAM_originals\\WCAM16\\training\\night\\Kangaroo\n",
      "Processing image: E:\\Wild deserts photos\\2024_11_WCAM_originals\\WCAM16\\RCNX0013.JPG\n",
      "Image is a night image\n",
      "\n",
      "0: 480x640 1 item, 2488.7ms\n",
      "Speed: 4.0ms preprocess, 2488.7ms inference, 2.0ms postprocess per image at shape (1, 3, 480, 640)\n",
      "\n",
      "0: 224x224 Rabbit 0.52, Cat 0.32, Fox 0.09, Dingo 0.05, Bilby 0.01, 309.8ms\n",
      "Speed: 5.4ms preprocess, 309.8ms inference, 0.0ms postprocess per image at shape (1, 3, 224, 224)\n",
      "Saving to E:\\Wild deserts photos\\2024_11_WCAM_originals\\WCAM16\\training\\night\\low_confidence\\Rabbit\n",
      "Processing image: E:\\Wild deserts photos\\2024_11_WCAM_originals\\WCAM16\\RCNX0016.JPG\n",
      "Image is a night image\n",
      "\n",
      "0: 480x640 1 item, 2476.3ms\n",
      "Speed: 30.9ms preprocess, 2476.3ms inference, 0.0ms postprocess per image at shape (1, 3, 480, 640)\n",
      "\n",
      "0: 224x224 Kangaroo 1.00, Cat 0.00, Fox 0.00, Dingo 0.00, blobs 0.00, 283.6ms\n",
      "Speed: 7.7ms preprocess, 283.6ms inference, 0.0ms postprocess per image at shape (1, 3, 224, 224)\n",
      "Saving to E:\\Wild deserts photos\\2024_11_WCAM_originals\\WCAM16\\training\\night\\Kangaroo\n"
     ]
    }
   ],
   "source": [
    "all_detections = []\n",
    "image_source_directory = \"E:\\\\Wild deserts photos\\\\2024_11_WCAM_originals\\\\WCAM16\"\n",
    "image_training_output = f\"{image_source_directory}\\\\training\"\n",
    "image_paths = []\n",
    "for dirpath, dirnames, filenames in os.walk(image_source_directory):\n",
    "    for filename in filenames:\n",
    "        if filename.endswith(\".JPG\"):\n",
    "            image_path = os.path.join(dirpath, filename)\n",
    "            image_paths.append(image_path)\n",
    "for image_path in image_paths:\n",
    "# try:\n",
    "    print(f\"Processing image: {image_path}\")\n",
    "    # get time of day from image\n",
    "    image = cv2.imread(image_path)\n",
    "    hsv_image = cv2.cvtColor(image, cv2.COLOR_BGR2HSV)\n",
    "    hue = hsv_image[:, :, 0].mean()  # H channel represents hue\n",
    "    # Adjust the thresholds as needed\n",
    "    if hue > 10:\n",
    "        model_required = 'day'\n",
    "    else:\n",
    "        model_required = 'night'\n",
    "\n",
    "    print(f\"Image is a {model_required} image\")\n",
    "\n",
    "    if model_required == 'night':\n",
    "        detection_model = YOLO(\"E:\\\\Wild deserts photos\\\\model_training/night_no_fences_v2/19_05_20255/weights/best.pt\")\n",
    "        model = YOLO(\"E:\\\\Wild deserts photos\\\\model_training\\\\runs\\\\classify\\\\classificationv1_night\\\\weights\\\\best.pt\")\n",
    "    else:\n",
    "        detection_model = YOLO(\"E:\\\\Wild deserts photos\\\\model_training/dayv4/19_05_20252/weights/best.pt\")\n",
    "        model = YOLO(\"E:\\\\Wild deserts photos\\\\model_training\\\\runs\\\\classify\\\\classificationv1_day\\\\weights\\\\best.pt\")\n",
    "\n",
    "\n",
    "    camera = re.search(r'WCAM(\\d+)', image_path)[0]\n",
    "    detections = detection_model.predict(image, save=False, # I don't save anything here because I want to sort into folders\n",
    "            save_txt=False,\n",
    "            save_conf=False, iou = 0.5, single_cls = True)\n",
    "    datetime = Image.open(image_path)._getexif()[36867].replace(' ', '_').replace(':', '_')\n",
    "    above = [d for d in detections[0].boxes if (d.conf > 0.7)]\n",
    "    if not above:\n",
    "        species = \"empty\"    \n",
    "    for idx, detection in enumerate(above):\n",
    "        bbox_normalized = detection.xyxy\n",
    "        cropped_img = crop_image_normalized(image, bbox_normalized)\n",
    "        \n",
    "\n",
    "        result = model.predict(\n",
    "            cropped_img, \n",
    "            save=False, # I don't save anything here because I want to sort into folders\n",
    "            save_txt=False,\n",
    "            save_conf=False)[0]\n",
    "        species = result.cpu().names[result.probs.top1]\n",
    "        conf = result.probs.cpu().top1conf.item()\n",
    "        \n",
    "\n",
    "        if conf<0.95:\n",
    "            output_dir = f\"{image_training_output}\\\\{model_required}\\\\low_confidence\\\\{species}\"\n",
    "        else:\n",
    "            output_dir = f\"{image_training_output}\\\\{model_required}\\\\{species}\"\n",
    "        print(f\"Saving to {output_dir}\")\n",
    "        os.makedirs(output_dir, exist_ok=True)\n",
    "        output_filename = f\"{output_dir}\\\\{camera}_{datetime}_{species}_{idx}.jpg\"\n",
    "        cv2.imwrite(output_filename, cropped_img)\n",
    "        df = pd.DataFrame({\n",
    "                    'original_path': [image_path],\n",
    "                    'cropped_path': [output_filename],\n",
    "                    'species': [species],\n",
    "                    'confidence': [conf],\n",
    "                    'bbox': [bbox_normalized],\n",
    "                    'time': [datetime],\n",
    "                    'model': [model_required],\n",
    "                    'camera': [camera] \n",
    "                })\n",
    "        all_detections.append(df)\n",
    "    output_dir_img = f\"{image_training_output}\\\\detection\\\\{model_required}\\\\images\"\n",
    "    os.makedirs(output_dir_img, exist_ok=True)\n",
    "    output_filename = f\"{output_dir_img}\\\\{camera}_{datetime}.jpg\"\n",
    "    cv2.imwrite(output_filename, image)\n",
    "    output_dir_txt = f\"{image_training_output}\\\\detection\\\\{model_required}\\\\labels\"\n",
    "    output_filename_txt = f\"{output_dir_txt}\\\\{camera}_{datetime}.txt\"\n",
    "    detections[0].save_txt(output_filename_txt)\n",
    "# except Exception as e:\n",
    "#     print(f\"Error processing {image_path}: {e}\")\n",
    "if all_detections:\n",
    "    final_df = pd.concat(all_detections, ignore_index=True)\n",
    "    final_df.to_csv(f\"{image_source_directory}\\\\output_{camera}.csv\", index=False)\n",
    "\n"
   ]
  },
  {
   "cell_type": "code",
   "execution_count": null,
   "metadata": {},
   "outputs": [
    {
     "data": {
      "text/plain": [
       "'c:\\\\Users\\\\willo\\\\OneDrive - UNSW\\\\Documents\\\\Work\\\\CES\\\\Wild Deserts\\\\Image classification\\\\coding'"
      ]
     },
     "execution_count": null,
     "metadata": {},
     "output_type": "execute_result"
    }
   ],
   "source": [
    "\n"
   ]
  }
 ],
 "metadata": {
  "language_info": {
   "name": "python"
  }
 },
 "nbformat": 4,
 "nbformat_minor": 2
}
