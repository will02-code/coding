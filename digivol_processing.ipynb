{
 "cells": [
  {
   "cell_type": "markdown",
   "metadata": {},
   "source": [
    "# Running Megadetector on exclosure images\n",
    "This sections runs megadetector on folders of exclosure images. The images must be renamed in the format *cameraName*\\__dd\\_mm\\_yyyy_\\__hh\\_mm\\_ss_.jpg for the script to work."
   ]
  },
  {
   "cell_type": "code",
   "execution_count": null,
   "metadata": {
    "vscode": {
     "languageId": "python"
    }
   },
   "outputs": [],
   "source": [
    "from megadetector.detection.run_detector_batch import load_and_run_detector_batch, write_results_to_file\n",
    "from megadetector.utils import path_utils\n",
    "import os\n",
    "import json\n",
    "import pandas as pd\n",
    "import shutil"
   ]
  },
  {
   "cell_type": "code",
   "execution_count": null,
   "metadata": {
    "vscode": {
     "languageId": "python"
    }
   },
   "outputs": [],
   "source": [
    "image_folder = os.path.expanduser('E:\\\\Wild deserts photos\\\\Exclosures\\\\Thipa\\\\test')\n",
    "output_file = os.path.expanduser('E:\\\\Wild deserts photos\\\\Exclosures\\\\Thipa\\\\test\\\\results.json')"
   ]
  },
  {
   "cell_type": "code",
   "execution_count": null,
   "metadata": {
    "vscode": {
     "languageId": "python"
    }
   },
   "outputs": [],
   "source": [
    "image_file_names = path_utils.find_images(image_folder,recursive=True)"
   ]
  },
  {
   "cell_type": "code",
   "execution_count": null,
   "metadata": {
    "vscode": {
     "languageId": "python"
    }
   },
   "outputs": [],
   "source": [
    "results = load_and_run_detector_batch('MDV5A', image_file_names, checkpoint_frequency = 1000)"
   ]
  },
  {
   "cell_type": "code",
   "execution_count": null,
   "metadata": {
    "vscode": {
     "languageId": "python"
    }
   },
   "outputs": [
    {
     "name": "stdout",
     "output_type": "stream",
     "text": [
      "Warning: no metadata for unknown detector version unknown\n",
      "Output file saved at E:\\Wild deserts photos\\Exclosures\\Thipa\\test\\results.json\n"
     ]
    },
    {
     "data": {
      "text/plain": [
       "{'images': [{'file': 'E:/Wild deserts photos/Exclosures/Thipa/test/testcam1/NSCAM05_01_07_2024_22_34_07.JPG',\n",
       "   'detections': [{'category': '1',\n",
       "     'conf': 0.955,\n",
       "     'bbox': [0.7539, 0.4902, 0.0791, 0.1229]}]},\n",
       "  {'file': 'E:/Wild deserts photos/Exclosures/Thipa/test/testcam1/NSCAM05_01_07_2024_22_34_08.JPG',\n",
       "   'detections': [{'category': '1',\n",
       "     'conf': 0.955,\n",
       "     'bbox': [0.6303, 0.4993, 0.1118, 0.1354]}]},\n",
       "  {'file': 'E:/Wild deserts photos/Exclosures/Thipa/test/testcam1/NSCAM05_01_07_2024_22_34_09.JPG',\n",
       "   'detections': [{'category': '1',\n",
       "     'conf': 0.96,\n",
       "     'bbox': [0.2607, 0.5229, 0.2128, 0.1701]}]},\n",
       "  {'file': 'E:/Wild deserts photos/Exclosures/Thipa/test/testcam1/NSCAM05_01_07_2024_22_34_10.JPG',\n",
       "   'detections': []},\n",
       "  {'file': 'E:/Wild deserts photos/Exclosures/Thipa/test/testcam2/NSCAM02_01_08_2024_14_31_44.JPG',\n",
       "   'detections': [{'category': '1',\n",
       "     'conf': 0.954,\n",
       "     'bbox': [0.1293, 0.7999, 0.2802, 0.177]}]},\n",
       "  {'file': 'E:/Wild deserts photos/Exclosures/Thipa/test/testcam2/NSCAM02_01_08_2024_14_31_45.JPG',\n",
       "   'detections': [{'category': '1',\n",
       "     'conf': 0.907,\n",
       "     'bbox': [0.0, 0.7034, 0.1386, 0.1902]}]},\n",
       "  {'file': 'E:/Wild deserts photos/Exclosures/Thipa/test/testcam2/NSCAM02_01_08_2024_14_31_46.JPG',\n",
       "   'detections': [{'category': '1',\n",
       "     'conf': 0.007,\n",
       "     'bbox': [0.4008, 0.4076, 0.0175, 0.0208]},\n",
       "    {'category': '1', 'conf': 0.005, 'bbox': [0.374, 0.4, 0.0175, 0.0229]}]},\n",
       "  {'file': 'E:/Wild deserts photos/Exclosures/Thipa/test/testcam2/NSCAM02_01_08_2024_16_37_12.JPG',\n",
       "   'detections': [{'category': '1',\n",
       "     'conf': 0.73,\n",
       "     'bbox': [0.0, 0.5472, 0.0712, 0.0673]},\n",
       "    {'category': '1',\n",
       "     'conf': 0.005,\n",
       "     'bbox': [0.6909, 0.1006, 0.0112, 0.0236]}]},\n",
       "  {'file': 'E:/Wild deserts photos/Exclosures/Thipa/test/testcam2/NSCAM02_01_08_2024_16_37_13.JPG',\n",
       "   'detections': [{'category': '1',\n",
       "     'conf': 0.013,\n",
       "     'bbox': [0.8007, 0.4486, 0.017, 0.0236]},\n",
       "    {'category': '1', 'conf': 0.007, 'bbox': [0.8496, 0.4472, 0.0083, 0.0145]},\n",
       "    {'category': '1',\n",
       "     'conf': 0.006,\n",
       "     'bbox': [0.6909, 0.1006, 0.0112, 0.0236]}]},\n",
       "  {'file': 'E:/Wild deserts photos/Exclosures/Thipa/test/testcam2/NSCAM02_01_08_2024_16_37_14.JPG',\n",
       "   'detections': [{'category': '1',\n",
       "     'conf': 0.007,\n",
       "     'bbox': [0.6904, 0.0958, 0.0117, 0.0284]},\n",
       "    {'category': '1',\n",
       "     'conf': 0.005,\n",
       "     'bbox': [0.7998, 0.4479, 0.018, 0.0243]}]}],\n",
       " 'detection_categories': {'1': 'animal', '2': 'person', '3': 'vehicle'},\n",
       " 'info': {'detection_completion_time': '2025-04-23 13:57:32',\n",
       "  'format_version': '1.4',\n",
       "  'detector': 'unknown',\n",
       "  'detector_metadata': {'megadetector_version': 'unknown',\n",
       "   'typical_detection_threshold': 0.5,\n",
       "   'conservative_detection_threshold': 0.25}}}"
      ]
     },
     "execution_count": null,
     "metadata": {},
     "output_type": "execute_result"
    }
   ],
   "source": [
    "write_results_to_file(results,\n",
    "                      output_file\n",
    "                      )"
   ]
  },
  {
   "cell_type": "markdown",
   "metadata": {},
   "source": [
    "# Processing the results file"
   ]
  },
  {
   "cell_type": "code",
   "execution_count": null,
   "metadata": {
    "vscode": {
     "languageId": "python"
    }
   },
   "outputs": [],
   "source": [
    "with open(output_file, 'r') as file:\n",
    "    data = json.load(file)\n",
    "df = pd.DataFrame(data['images'])"
   ]
  },
  {
   "cell_type": "code",
   "execution_count": null,
   "metadata": {
    "vscode": {
     "languageId": "python"
    }
   },
   "outputs": [],
   "source": []
  },
  {
   "cell_type": "code",
   "execution_count": 45,
   "metadata": {
    "vscode": {
     "languageId": "python"
    }
   },
   "outputs": [],
   "source": [
    "category_map = {'1': 'animal', '2': 'person', '3': 'vehicle'}\n",
    "confidence_threshold = 0.7\n",
    "main_dir = 'E:\\\\Wild deserts photos\\\\Exclosures\\\\Thipa\\\\test\\\\all_images'\n",
    "empty_dir = 'E:\\\\Wild deserts photos\\\\Exclosures\\\\Thipa\\\\test\\\\all_images\\\\empty'\n",
    "os.makedirs(main_dir, exist_ok=True)\n",
    "os.makedirs(os.path.join(main_dir, empty_dir), exist_ok=True)"
   ]
  },
  {
   "cell_type": "code",
   "execution_count": 54,
   "metadata": {
    "vscode": {
     "languageId": "python"
    }
   },
   "outputs": [
    {
     "name": "stdout",
     "output_type": "stream",
     "text": [
      "Source file not found: E:/Wild deserts photos/Exclosures/Thipa/test/testcam1/NSCAM05_01_07_2024_22_34_07.JPG\n",
      "Source file not found: E:/Wild deserts photos/Exclosures/Thipa/test/testcam1/NSCAM05_01_07_2024_22_34_08.JPG\n",
      "Source file not found: E:/Wild deserts photos/Exclosures/Thipa/test/testcam1/NSCAM05_01_07_2024_22_34_09.JPG\n",
      "Source file not found: E:/Wild deserts photos/Exclosures/Thipa/test/testcam1/NSCAM05_01_07_2024_22_34_10.JPG\n",
      "Source file not found: E:/Wild deserts photos/Exclosures/Thipa/test/testcam2/NSCAM02_01_08_2024_14_31_44.JPG\n",
      "Source file not found: E:/Wild deserts photos/Exclosures/Thipa/test/testcam2/NSCAM02_01_08_2024_14_31_45.JPG\n",
      "Source file not found: E:/Wild deserts photos/Exclosures/Thipa/test/testcam2/NSCAM02_01_08_2024_14_31_46.JPG\n",
      "Source file not found: E:/Wild deserts photos/Exclosures/Thipa/test/testcam2/NSCAM02_01_08_2024_16_37_12.JPG\n",
      "Source file not found: E:/Wild deserts photos/Exclosures/Thipa/test/testcam2/NSCAM02_01_08_2024_16_37_13.JPG\n",
      "Source file not found: E:/Wild deserts photos/Exclosures/Thipa/test/testcam2/NSCAM02_01_08_2024_16_37_14.JPG\n",
      "File processing complete!\n"
     ]
    }
   ],
   "source": [
    "for index, row in df.iterrows():\n",
    "    file_path = row['file']\n",
    "    detections = row['detections']\n",
    "    file_name = os.path.basename(file_path)\n",
    "    valid_categories = set()\n",
    "    if isinstance(detections, list):\n",
    "        for detection in detections:\n",
    "            if isinstance(detection, dict) and detection.get('conf', 0) > confidence_threshold and detection.get('category') in category_map:\n",
    "                valid_categories.add(category_map[detection['category']])\n",
    "\n",
    "    source_path = file_path\n",
    "    destination_base = os.path.join(main_dir) # Keep original subdirectory structure within all_images\n",
    "    os.makedirs(destination_base, exist_ok=True)\n",
    "    destination_path = destination_base # Default destination\n",
    "    if valid_categories:\n",
    "        # Create a combined folder name if there are multiple categories\n",
    "        if len(valid_categories) > 1:\n",
    "            folder_name = '_'.join(sorted(list(valid_categories)))\n",
    "            destination_path = os.path.join(main_dir, folder_name, file_name)\n",
    "        elif len(valid_categories) == 1:\n",
    "            category = valid_categories.pop()\n",
    "            destination_path = os.path.join(main_dir, category, file_name)\n",
    "\n",
    "        os.makedirs(os.path.dirname(destination_path), exist_ok=True)\n",
    "        try:\n",
    "            shutil.move(source_path, destination_path)\n",
    "            print(f\"Moved '{source_path}' to '{destination_path}'\")\n",
    "        except FileNotFoundError:\n",
    "            print(f\"Source file not found: {source_path}\")\n",
    "        except Exception as e:\n",
    "            print(f\"An error occurred while moving '{source_path}': {e}\")\n",
    "    else:\n",
    "        # Move files with no valid detections to the 'empty' folder\n",
    "        destination_path = os.path.join(main_dir, empty_dir, file_name)\n",
    "        os.makedirs(os.path.dirname(destination_path), exist_ok=True)\n",
    "        try:\n",
    "            shutil.move(source_path, destination_path)\n",
    "            print(f\"Moved '{source_path}' to '{destination_path}' (empty)\")\n",
    "        except FileNotFoundError:\n",
    "            print(f\"Source file not found: {source_path}\")\n",
    "        except Exception as e:\n",
    "            print(f\"An error occurred while moving '{source_path}' to empty: {e}\")\n",
    "\n",
    "print(\"File processing complete!\")"
   ]
  }
 ],
 "metadata": {
  "language_info": {
   "name": "plaintext"
  }
 },
 "nbformat": 4,
 "nbformat_minor": 2
}
