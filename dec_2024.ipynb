{
 "cells": [
  {
   "cell_type": "code",
   "execution_count": 59,
   "metadata": {
    "vscode": {
     "languageId": "python"
    }
   },
   "outputs": [],
   "source": [
    "import pandas as pd\n",
    "import numpy as np"
   ]
  },
  {
   "cell_type": "code",
   "execution_count": 72,
   "metadata": {
    "vscode": {
     "languageId": "python"
    }
   },
   "outputs": [],
   "source": [
    "actual = r\"D:\\Wild deserts photos\\concatenated_Dave.xlsx\""
   ]
  },
  {
   "cell_type": "code",
   "execution_count": 73,
   "metadata": {
    "vscode": {
     "languageId": "python"
    }
   },
   "outputs": [],
   "source": [
    "df = pd.read_excel(actual, dtype=str)\n",
    "df['Time'] = pd.to_timedelta(df['Time']) \n",
    "df['Date'] = pd.to_datetime(df['Date'])  \n",
    "df[\"datetime_converted\"] = df[\"Date\"]+df[\"Time\"]"
   ]
  },
  {
   "cell_type": "code",
   "execution_count": 64,
   "metadata": {
    "vscode": {
     "languageId": "python"
    }
   },
   "outputs": [
    {
     "name": "stdout",
     "output_type": "stream",
     "text": [
      "                                           path_original   species confidence                                               bbox  \\\n",
      "0      E:\\Wild deserts photos\\2024_12_WCAM_originals/...      none       none                                               none   \n",
      "1      E:\\Wild deserts photos\\2024_12_WCAM_originals/...      none       none                                               none   \n",
      "2      E:\\Wild deserts photos\\2024_12_WCAM_originals/...      none       none                                               none   \n",
      "3      E:\\Wild deserts photos\\2024_12_WCAM_originals/...      none       none                                               none   \n",
      "4      E:\\Wild deserts photos\\2024_12_WCAM_originals/...      none       none                                               none   \n",
      "...                                                  ...       ...        ...                                                ...   \n",
      "62606  E:\\Wild deserts photos\\2024_12_WCAM_originals/...    Rabbit      0.962  [[1343.6241455078125, 1164.0250244140625, 225....   \n",
      "62607  E:\\Wild deserts photos\\2024_12_WCAM_originals/...    Rabbit      0.972  [[1008.752197265625, 1262.4437255859375, 596.9...   \n",
      "62608  E:\\Wild deserts photos\\2024_12_WCAM_originals/...      none       none                                               none   \n",
      "62609  E:\\Wild deserts photos\\2024_12_WCAM_originals/...      none       none                                               none   \n",
      "62610  E:\\Wild deserts photos\\2024_12_WCAM_originals/...  Kangaroo      0.385  [[1023.6668701171875, 713.5703735351562, 2042....   \n",
      "\n",
      "                                          path_annotated                                         label_path                 time  model_name Location  \n",
      "0      E:\\Wild deserts photos\\2024_12_WCAM_originals/...  E:\\Wild deserts photos\\2024_12_WCAM_originals/...  2024:12:03 14:31:38    day_0502   WCAM03  \n",
      "1      E:\\Wild deserts photos\\2024_12_WCAM_originals/...  E:\\Wild deserts photos\\2024_12_WCAM_originals/...  2024:12:03 14:31:39    day_0502   WCAM03  \n",
      "2      E:\\Wild deserts photos\\2024_12_WCAM_originals/...  E:\\Wild deserts photos\\2024_12_WCAM_originals/...  2024:12:03 14:31:40    day_0502   WCAM03  \n",
      "3      E:\\Wild deserts photos\\2024_12_WCAM_originals/...  E:\\Wild deserts photos\\2024_12_WCAM_originals/...  2024:12:03 14:31:40    day_0502   WCAM03  \n",
      "4      E:\\Wild deserts photos\\2024_12_WCAM_originals/...  E:\\Wild deserts photos\\2024_12_WCAM_originals/...  2024:12:03 14:31:41    day_0502   WCAM03  \n",
      "...                                                  ...                                                ...                  ...         ...      ...  \n",
      "62606  E:\\Wild deserts photos\\2024_12_WCAM_originals/...  E:\\Wild deserts photos\\2024_12_WCAM_originals/...  2024:12:31 22:29:48  night_0402   WCAM13  \n",
      "62607  E:\\Wild deserts photos\\2024_12_WCAM_originals/...  E:\\Wild deserts photos\\2024_12_WCAM_originals/...  2024:12:31 22:29:55  night_0402   WCAM13  \n",
      "62608  E:\\Wild deserts photos\\2024_12_WCAM_originals/...  E:\\Wild deserts photos\\2024_12_WCAM_originals/...  2024:12:31 22:29:56  night_0402   WCAM13  \n",
      "62609  E:\\Wild deserts photos\\2024_12_WCAM_originals/...  E:\\Wild deserts photos\\2024_12_WCAM_originals/...  2024:12:31 22:29:57  night_0402   WCAM13  \n",
      "62610  E:\\Wild deserts photos\\2024_12_WCAM_originals/...  E:\\Wild deserts photos\\2024_12_WCAM_originals/...  2025:01:01 10:24:03  night_0402   WCAM13  \n",
      "\n",
      "[62611 rows x 9 columns]\n"
     ]
    }
   ],
   "source": [
    "from pathlib import Path\n",
    "import pandas as pd\n",
    "\n",
    "root_dir = Path(r\"D:\\Wild deserts photos\\2024_12_WCAM_originals\")\n",
    "\n",
    "all_dataframes = []\n",
    "\n",
    "# Recursively search for all .csv files under root_dir\n",
    "for csv_file in root_dir.rglob(\"*.csv\"):\n",
    "    # Read the CSV into a DataFrame\n",
    "    df = pd.read_csv(csv_file)\n",
    "    \n",
    "    # Extract information from the parent directory name\n",
    "    parent_dir = csv_file.parent.name\n",
    "    \n",
    "    # Create a new column based on the directory name\n",
    "    df[\"model_name\"] = parent_dir\n",
    "    \n",
    "    # If you want the entire path (relative to root_dir), you could do:\n",
    "    relative_path = csv_file.relative_to(root_dir)  # e.g., \"subfolder/another_subfolder/data.csv\"\n",
    "    # df[\"relative_path\"] = str(relative_path.parent)  # e.g., \"subfolder/another_subfolder\"\n",
    "\n",
    "    # If you need multiple levels of folders in separate columns, for example:\n",
    "    level_one_folder = relative_path.parts[0]  \n",
    "    df[\"Location\"] = level_one_folder\n",
    "\n",
    "    # Store the modified DataFrame\n",
    "    all_dataframes.append(df)\n",
    "\n",
    "# Concatenate all DataFrames into one (optional)\n",
    "if all_dataframes:\n",
    "    master_df = pd.concat(all_dataframes, ignore_index=True)\n",
    "    print(master_df)\n",
    "    # Optionally save to a new CSV\n",
    "    # master_df.to_csv(\"combined_data.csv\", index=False)\n",
    "else:\n",
    "    print(\"No CSV files found.\")\n"
   ]
  },
  {
   "cell_type": "code",
   "execution_count": 65,
   "metadata": {
    "vscode": {
     "languageId": "python"
    }
   },
   "outputs": [],
   "source": [
    "master_df[\"datetime_converted\"] = pd.to_datetime(master_df[\"time\"], format=\"%Y:%m:%d %H:%M:%S\")\n",
    "master_df[\"Date\"] = master_df[\"datetime_converted\"].dt.date\n",
    "master_df[\"Time\"] = master_df[\"datetime_converted\"].dt.time\n"
   ]
  },
  {
   "cell_type": "code",
   "execution_count": 91,
   "metadata": {
    "vscode": {
     "languageId": "python"
    }
   },
   "outputs": [],
   "source": [
    "df = df[\n",
    "    (df[\"datetime_converted\"] > master_df[\"datetime_converted\"].min()) &\n",
    "    (df[\"datetime_converted\"] < master_df[\"datetime_converted\"].max())\n",
    "]\n"
   ]
  },
  {
   "cell_type": "code",
   "execution_count": 103,
   "metadata": {
    "vscode": {
     "languageId": "python"
    }
   },
   "outputs": [],
   "source": [
    "joined_df = pd.merge(master_df, df, on = \"datetime_converted\", how = \"right\")"
   ]
  },
  {
   "cell_type": "code",
   "execution_count": 106,
   "metadata": {
    "vscode": {
     "languageId": "python"
    }
   },
   "outputs": [],
   "source": [
    "cleaned = joined_df[[\n",
    "    \"species\", \n",
    "    \"confidence\",\n",
    "    \"Species\", \n",
    "    \"path_original\", \n",
    "    \"datetime_converted\", \n",
    "    \"Location_x\", \n",
    "    \"Location_y\", \n",
    "    \"model_name\"\n",
    "]]\n",
    "cleaned = cleaned.replace(\"Red Kangaroo\", \"Kangaroo\")"
   ]
  },
  {
   "cell_type": "code",
   "execution_count": 107,
   "metadata": {
    "vscode": {
     "languageId": "python"
    }
   },
   "outputs": [],
   "source": [
    "not_correct = cleaned.loc[~(cleaned[\"Species\"]==cleaned[\"species\"])]"
   ]
  },
  {
   "cell_type": "code",
   "execution_count": 110,
   "metadata": {
    "vscode": {
     "languageId": "python"
    }
   },
   "outputs": [],
   "source": [
    "night = not_correct.loc[not_correct[\"model_name\"]==\"night_0402\"]"
   ]
  }
 ],
 "metadata": {
  "language_info": {
   "name": "plaintext"
  }
 },
 "nbformat": 4,
 "nbformat_minor": 2
}
