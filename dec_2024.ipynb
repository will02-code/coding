{
 "cells": [
  {
   "cell_type": "code",
   "execution_count": null,
   "metadata": {
    "vscode": {
     "languageId": "python"
    }
   },
   "outputs": [],
   "source": [
    "import pandas as pd\n",
    "import numpy as np"
   ]
  },
  {
   "cell_type": "code",
   "execution_count": null,
   "metadata": {
    "vscode": {
     "languageId": "python"
    }
   },
   "outputs": [],
   "source": [
    "actual = r\"D:\\Wild deserts photos\\concatenated_Dave.xlsx\""
   ]
  },
  {
   "cell_type": "code",
   "execution_count": null,
   "metadata": {
    "vscode": {
     "languageId": "python"
    }
   },
   "outputs": [],
   "source": [
    "df = pd.read_excel(actual, dtype=str)\n",
    "df['Time'] = pd.to_timedelta(df['Time']) \n",
    "df['Date'] = pd.to_datetime(df['Date'])  \n",
    "df[\"datetime_converted\"] = df[\"Date\"]+df[\"Time\"]"
   ]
  },
  {
   "cell_type": "code",
   "execution_count": null,
   "metadata": {
    "vscode": {
     "languageId": "python"
    }
   },
   "outputs": [],
   "source": [
    "from pathlib import Path\n",
    "import pandas as pd\n",
    "\n",
    "root_dir = Path(r\"D:\\Wild deserts photos\\2024_12_WCAM_originals\\WCAM01\\100RECNX\\night_no_fences\")\n",
    "\n",
    "all_dataframes = []\n",
    "\n",
    "# Recursively search for all .csv files under root_dir\n",
    "for csv_file in root_dir.rglob(\"*.csv\"):\n",
    "    # Read the CSV into a DataFrame\n",
    "    df = pd.read_csv(csv_file)\n",
    "    \n",
    "    # Extract information from the parent directory name\n",
    "    parent_dir = csv_file.parent.name\n",
    "    \n",
    "    # Create a new column based on the directory name\n",
    "    df[\"model_name\"] = parent_dir\n",
    "    \n",
    "    # If you want the entire path (relative to root_dir), you could do:\n",
    "    relative_path = csv_file.relative_to(root_dir)  # e.g., \"subfolder/another_subfolder/data.csv\"\n",
    "    # df[\"relative_path\"] = str(relative_path.parent)  # e.g., \"subfolder/another_subfolder\"\n",
    "\n",
    "    # If you need multiple levels of folders in separate columns, for example:\n",
    "    level_one_folder = relative_path.parts[0]  \n",
    "    df[\"Location\"] = level_one_folder\n",
    "\n",
    "    # Store the modified DataFrame\n",
    "    all_dataframes.append(df)\n",
    "\n",
    "# Concatenate all DataFrames into one (optional)\n",
    "if all_dataframes:\n",
    "    master_df = pd.concat(all_dataframes, ignore_index=True)\n",
    "    print(master_df)\n",
    "    # Optionally save to a new CSV\n",
    "    # master_df.to_csv(\"combined_data.csv\", index=False)\n",
    "else:\n",
    "    print(\"No CSV files found.\")\n"
   ]
  },
  {
   "cell_type": "code",
   "execution_count": null,
   "metadata": {
    "vscode": {
     "languageId": "python"
    }
   },
   "outputs": [],
   "source": [
    "master_df[\"datetime_converted\"] = pd.to_datetime(master_df[\"time\"], format=\"%Y:%m:%d %H:%M:%S\")\n",
    "master_df[\"Date\"] = master_df[\"datetime_converted\"].dt.date\n",
    "master_df[\"Time\"] = master_df[\"datetime_converted\"].dt.time\n"
   ]
  },
  {
   "cell_type": "markdown",
   "metadata": {},
   "source": [
    "This code joins the two dfs together to compare. "
   ]
  },
  {
   "cell_type": "code",
   "execution_count": null,
   "metadata": {
    "vscode": {
     "languageId": "python"
    }
   },
   "outputs": [],
   "source": [
    "\n",
    "df = df[\n",
    "    (df[\"datetime_converted\"] > master_df[\"datetime_converted\"].min()) &\n",
    "    (df[\"datetime_converted\"] < master_df[\"datetime_converted\"].max())\n",
    "]\n",
    "joined_df = pd.merge(master_df, df, on = \"datetime_converted\", how = \"right\")\n",
    "cleaned = joined_df[[\n",
    "    \"species\", \n",
    "    \"confidence\",\n",
    "    \"Species\", \n",
    "    \"path_original\", \n",
    "    \"datetime_converted\", \n",
    "    \"Location_x\", \n",
    "    \"Location_y\", \n",
    "    \"model_name\"\n",
    "]]\n",
    "cleaned = cleaned.replace(\"Red Kangaroo\", \"Kangaroo\")\n",
    "not_correct = cleaned.loc[~(cleaned[\"Species\"]==cleaned[\"species\"])]\n",
    "night = not_correct.loc[not_correct[\"model_name\"]==\"night_0402\"]\n"
   ]
  },
  {
   "cell_type": "code",
   "execution_count": null,
   "metadata": {
    "vscode": {
     "languageId": "python"
    }
   },
   "outputs": [],
   "source": [
    "\n",
    "master_df = master_df[(master_df[\"confidence\"]!=\"none\")]\n"
   ]
  },
  {
   "cell_type": "code",
   "execution_count": null,
   "metadata": {
    "vscode": {
     "languageId": "python"
    }
   },
   "outputs": [],
   "source": [
    "master_df['confidence'] = master_df[\"confidence\"].astype(float)"
   ]
  },
  {
   "cell_type": "code",
   "execution_count": null,
   "metadata": {
    "vscode": {
     "languageId": "python"
    }
   },
   "outputs": [],
   "source": [
    "master_df = master_df[(master_df[\"confidence\"]>0.8)]\n"
   ]
  },
  {
   "cell_type": "markdown",
   "metadata": {},
   "source": [
    "Extract only images within a 30sec timeframe"
   ]
  },
  {
   "cell_type": "code",
   "execution_count": null,
   "metadata": {
    "vscode": {
     "languageId": "python"
    }
   },
   "outputs": [],
   "source": [
    "images_sorted = master_df.sort_values(by=['datetime_converted'])\n",
    "selected_images = []\n",
    "current_anchor = None\n",
    "records = images_sorted.to_dict(orient=\"records\")  \n",
    "time_window_sec = 600"
   ]
  },
  {
   "cell_type": "code",
   "execution_count": null,
   "metadata": {
    "vscode": {
     "languageId": "python"
    }
   },
   "outputs": [],
   "source": [
    "for img in records:\n",
    "    print(img)\n",
    "    if current_anchor is None:\n",
    "        # First image in the list becomes our anchor\n",
    "        current_anchor = img\n",
    "        continue\n",
    "    \n",
    "    time_diff = (img['datetime_converted'] - current_anchor['datetime_converted']).total_seconds()\n",
    "    \n",
    "    if time_diff <= time_window_sec:\n",
    "        # If within the window, pick the higher-confidence image\n",
    "        if img['confidence'] > current_anchor['confidence']:\n",
    "            current_anchor = img\n",
    "    else:\n",
    "        # Time window exceeded => finalize current_anchor & start a new one\n",
    "        selected_images.append(current_anchor)\n",
    "        current_anchor = img\n",
    "    \n",
    "    # Don’t forget to append the last anchor if it exists\n",
    "    "
   ]
  },
  {
   "cell_type": "code",
   "execution_count": null,
   "metadata": {
    "vscode": {
     "languageId": "python"
    }
   },
   "outputs": [],
   "source": [
    "for img in selected_images:\n",
    "    print(img['datetime_converted'], img['confidence'], img['species'])"
   ]
  },
  {
   "cell_type": "code",
   "execution_count": null,
   "metadata": {
    "vscode": {
     "languageId": "python"
    }
   },
   "outputs": [],
   "source": [
    "selected_images_df = pd.DataFrame(selected_images)"
   ]
  },
  {
   "cell_type": "code",
   "execution_count": null,
   "metadata": {
    "vscode": {
     "languageId": "python"
    }
   },
   "outputs": [],
   "source": [
    "\n",
    "df = df[\n",
    "    (df[\"datetime_converted\"] > master_df[\"datetime_converted\"].min()) &\n",
    "    (df[\"datetime_converted\"] < master_df[\"datetime_converted\"].max())\n",
    "]\n",
    "joined_df = pd.merge(selected_images_df, df, on = \"datetime_converted\", how = \"outer\")\n",
    "cleaned = joined_df[[\n",
    "    \"species\", \n",
    "    \"confidence\",\n",
    "    \"Species\", \n",
    "    \"path_original\", \n",
    "    \"datetime_converted\", \n",
    "    \"Location_x\", \n",
    "    \"Location_y\", \n",
    "    \"model_name\"\n",
    "]]\n",
    "cleaned = cleaned.replace(\"Red Kangaroo\", \"Kangaroo\")\n",
    "not_correct = cleaned.loc[~(cleaned[\"Species\"]==cleaned[\"species\"])]\n",
    "night = not_correct.loc[not_correct[\"model_name\"]==\"night_0402\"]\n"
   ]
  },
  {
   "cell_type": "code",
   "execution_count": null,
   "metadata": {
    "vscode": {
     "languageId": "python"
    }
   },
   "outputs": [],
   "source": [
    "test = pd.merge_asof(selected_images_df, df.sort_values(by=['datetime_converted']), on = \"datetime_converted\", direction='nearest')"
   ]
  },
  {
   "cell_type": "code",
   "execution_count": null,
   "metadata": {
    "vscode": {
     "languageId": "python"
    }
   },
   "outputs": [],
   "source": [
    "cleaned_test = test[[\n",
    "    \"species\", \n",
    "    \"confidence\",\n",
    "    \"Species\", \n",
    "    \"path_original\", \n",
    "    \"datetime_converted\", \n",
    "    \"Location_x\", \n",
    "    \"Location_y\", \n",
    "    \"model_name\",\n",
    "    \"datetime_converted_x\",\n",
    "    \"datetime_converted_y\"\n",
    "]]"
   ]
  },
  {
   "cell_type": "code",
   "execution_count": null,
   "metadata": {
    "vscode": {
     "languageId": "python"
    }
   },
   "outputs": [],
   "source": [
    "selected_images_df.to_csv(\"december_ai.csv\")"
   ]
  }
 ],
 "metadata": {
  "language_info": {
   "name": "plaintext"
  }
 },
 "nbformat": 4,
 "nbformat_minor": 2
}
