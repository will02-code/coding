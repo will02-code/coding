{
 "cells": [
  {
   "cell_type": "markdown",
   "metadata": {},
   "source": [
    "# Organisation notebook\n",
    "This notebook is for all of the things involved in the image classification that are not the actual model training/validation/inference:\n",
    "- classification into day/night images'\n",
    "- sorting datasets into balanced test/train/val sets \n",
    "- checking how many instances of classes are in a labels folder\n",
    "- relabelling of images by replacing values in the label files\n",
    "- Deleting duplicate images from training/val datasets to prevent data leakage"
   ]
  },
  {
   "cell_type": "code",
   "execution_count": null,
   "metadata": {
    "vscode": {
     "languageId": "python"
    }
   },
   "outputs": [],
   "source": [
    "import shutil\n",
    "import cv2\n",
    "\n",
    "import os\n",
    "import pandas as pd\n",
    "import time\n",
    "from glob import glob\n",
    "import re\n",
    "import numpy as np\n",
    "from tqdm import tqdm\n",
    "from skmultilearn.model_selection import iterative_train_test_split\n",
    "from PIL import Image"
   ]
  },
  {
   "cell_type": "markdown",
   "metadata": {},
   "source": [
    "## Sort images into day/night\n",
    "- This classifies images in any directory into day/night images based on hue\n",
    "- It misses some images (<10 per 1000) so some manual checking is needed"
   ]
  },
  {
   "cell_type": "markdown",
   "metadata": {},
   "source": [
    "Specifically for labelled images"
   ]
  },
  {
   "cell_type": "code",
   "execution_count": null,
   "metadata": {
    "vscode": {
     "languageId": "python"
    }
   },
   "outputs": [],
   "source": [
    "# Define the source directory and the target directories for day and night images\n",
    "image_source_directory = \"C:\\\\Users\\\\willo\\\\OneDrive - UNSW\\\\Documents\\\\Work\\\\CES\\\\Wild Deserts\\\\Image classification\\\\feedback_loop\\\\v1_night_16012025\\\\images\\\\val\"\n",
    "label_source_directory = \"C:\\\\Users\\\\willo\\\\OneDrive - UNSW\\\\Documents\\\\Work\\\\CES\\\\Wild Deserts\\\\Image classification\\\\feedback_loop\\\\v1_night_16012025\\\\labels\\\\val\"\n",
    "\n",
    "#day_directory_images = \"D:\\\\Wild deserts photos\\\\model_val\\\\day_images\\\\val\\\\images\"\n",
    "#day_directory_labels = \"D:\\\\Wild deserts photos\\\\model_val\\\\day_images\\\\val\\\\labels\"\n",
    "\n",
    "#night_directory_images = \"D:\\\\Wild deserts photos\\\\model_val\\\\night_images\\\\val\\\\images\"\n",
    "#night_directory_labels = \"D:\\\\Wild deserts photos\\\\model_val\\\\night_images\\\\val\\\\images\"\n",
    "\n",
    "# Create the target directories if they do not exist\n",
    "#os.makedirs(day_directory_images, exist_ok=True)\n",
    "#os.makedirs(day_directory_labels, exist_ok=True)\n",
    "#os.makedirs(night_directory_images, exist_ok=True)\n",
    "#os.makedirs(night_directory_labels, exist_ok=True)\n",
    "\n",
    "def classify_image(image_path):\n",
    "    image = cv2.imread(image_path)\n",
    "    hsv_image = cv2.cvtColor(image, cv2.COLOR_BGR2HSV)\n",
    "    brightness = hsv_image[:, :, 2].mean()  # V channel represents brightness\n",
    "    hue = hsv_image[:, :, 0].mean()  # H channel represents hue\n",
    "    # Adjust the thresholds as needed\n",
    "    if hue > 10:\n",
    "        return 'day'\n",
    "    else:\n",
    "        return 'night'\n",
    "\n",
    "# Classify and copy images and labels\n",
    "for filename in os.listdir(image_source_directory):\n",
    "    if filename.endswith(\".JPG\") or filename.endswith(\".jpg\"):\n",
    "        image_path = os.path.join(image_source_directory, filename)\n",
    "        label_path = os.path.join(label_source_directory, filename.replace(\".JPG\", \".txt\").replace(\".jpg\", \".txt\"))\n",
    "        print(f\"Classifying {image_path}\")\n",
    "        classification = classify_image(image_path)\n",
    "        if classification == 'day':\n",
    "            os.remove(image_path)\n",
    "            os.remove(label_path)\n",
    "        else:\n",
    "            continue\n",
    "            #shutil.copy(image_path, os.path.join(night_directory_images, filename))\n",
    "            #shutil.copy(label_path, os.path.join(night_directory_labels, os.path.basename(label_path)))\n",
    "\n",
    "print(\"Classification and copying completed!\")"
   ]
  },
  {
   "cell_type": "markdown",
   "metadata": {},
   "source": [
    "For unlabelled images/just a directory of images"
   ]
  },
  {
   "cell_type": "code",
   "execution_count": null,
   "metadata": {
    "vscode": {
     "languageId": "python"
    }
   },
   "outputs": [],
   "source": [
    "# Define the source directory and the target directories for day and night images\n",
    "image_source_directory = \"C:\\\\Users\\\\willo\\\\OneDrive - UNSW\\\\Documents\\\\Work\\\\CES\\\\Wild Deserts\\\\Wyze paired\\\\december PCAM07\"\n",
    "\n",
    "day_directory_images = \"C:\\\\Users\\\\willo\\\\OneDrive - UNSW\\\\Documents\\\\Work\\\\CES\\\\Wild Deserts\\\\Wyze paired\\\\december PCAM07\\\\day\"\n",
    "\n",
    "night_directory_images = \"C:\\\\Users\\\\willo\\\\OneDrive - UNSW\\\\Documents\\\\Work\\\\CES\\\\Wild Deserts\\\\Wyze paired\\\\december PCAM07\\\\night\"\n",
    "\n",
    "# Create the target directories if they do not exist\n",
    "os.makedirs(day_directory_images, exist_ok=True)\n",
    "os.makedirs(night_directory_images, exist_ok=True)\n",
    "\n",
    "def classify_image(image_path):\n",
    "    image = cv2.imread(image_path)\n",
    "    hsv_image = cv2.cvtColor(image, cv2.COLOR_BGR2HSV)\n",
    "    brightness = hsv_image[:, :, 2].mean()  # V channel represents brightness\n",
    "    hue = hsv_image[:, :, 0].mean()  # H channel represents hue\n",
    "    # Adjust the thresholds as needed\n",
    "    if hue > 10:\n",
    "        return 'day'\n",
    "    else:\n",
    "        return 'night'\n",
    "\n",
    "# Classify and copy images\n",
    "for filename in os.listdir(image_source_directory):\n",
    "    if filename.endswith(\".JPG\") or filename.endswith(\".jpg\"):\n",
    "        image_path = os.path.join(image_source_directory, filename)\n",
    "        print(image_path)\n",
    "        classification = classify_image(image_path)\n",
    "        if classification == 'day':\n",
    "            shutil.copy(image_path, os.path.join(day_directory_images, filename))\n",
    "        else:\n",
    "            shutil.copy(image_path, os.path.join(night_directory_images, filename))\n",
    "\n",
    "print(\"Classification and copying completed!\")"
   ]
  },
  {
   "cell_type": "markdown",
   "metadata": {},
   "source": [
    "## Reclassify labels and split into train/val sets\n",
    "- This uses some basic text editing to replace values that are being reclassified\n",
    "- Faster than reclassifying using X-Anylabel\n",
    "- I also split images into new test/train/val sets after reclassifying.\n",
    "    - I use iterative_train_test_split from Scikit-multilearn to perform stratified classification because of the imbalanced dataset\n",
    "    \n"
   ]
  },
  {
   "cell_type": "markdown",
   "metadata": {},
   "source": [
    "### Reclassification\n",
    "- remember to change the to_remove and the species"
   ]
  },
  {
   "cell_type": "code",
   "execution_count": null,
   "metadata": {
    "vscode": {
     "languageId": "python"
    }
   },
   "outputs": [],
   "source": [
    "for file_path in glob('E:\\\\Wild deserts photos\\\\model_training\\\\animal_detector\\\\labels\\\\val\\\\*.txt'):\n",
    "    print(f'{file_path}')\n",
    "    with open(file_path, 'r', encoding='utf-8') as file:\n",
    "        lines = file.readlines()\n",
    "        modified_lines = []\n",
    "        for line in lines:\n",
    "            to_remove = re.match(r'^(8 )', line)\n",
    "            animal = re.match(r'^(0 |1 |2 |3 |4 |5 |6 |7)', line)\n",
    "            # rabbit = re.match(r'^(11 )', line)\n",
    "            #dingo = re.match(r'^(2 )', line)\n",
    "            #fox = re.match(r'^(6 )', line)\n",
    "            if to_remove:\n",
    "                continue  # Skip appending this line\n",
    "            elif animal:\n",
    "                modified_line = re.sub(r'^(0 |1 |2 |3 |4 |5 |6 |7)', '0 ', line)\n",
    "            # elif rabbit:\n",
    "            #     modified_line = re.sub(r'^(11 )', \"2 \", line)\n",
    "            #elif dingo:\n",
    "            #    modified_line = re.sub(r'^(2 )', \"3 \", line)  \n",
    "            #elif fox:\n",
    "            #    modified_line = re.sub(r'^(6 )', \"4 \", line)  \n",
    "            else:\n",
    "                modified_line = line  \n",
    "            \n",
    "            modified_lines.append(modified_line)\n",
    "    with open(file_path, 'w', encoding='utf-8') as file:\n",
    "        file.writelines(modified_lines)\n",
    "        print(f'File written to: {file_path}')\n",
    "\n",
    "print(\"Done!\")"
   ]
  },
  {
   "cell_type": "markdown",
   "metadata": {},
   "source": [
    "### Split the reclassified images\n",
    "- remember to change the 4D zero vector according to the number of classes you have"
   ]
  },
  {
   "cell_type": "code",
   "execution_count": null,
   "metadata": {
    "vscode": {
     "languageId": "python"
    }
   },
   "outputs": [],
   "source": [
    "\n",
    "# Path to your YOLO .txt annotations\n",
    "annotations_path = \"E:\\\\Wild deserts photos\\\\model_training\\\\dayv4\\\\labels\\\\*.txt\"\n",
    "\n",
    "# List all .txt files\n",
    "txt_files = glob(annotations_path)\n",
    "\n",
    "X = []  # Will store image paths or anything representing the \"features\"\n",
    "y = []  # Will store the multi-label vectors of shape (16,)\n",
    "\n",
    "for txt_file in txt_files:\n",
    "    # Construct the corresponding image path\n",
    "    # (assuming .jpg files, adjust if your images are .png, etc.)\n",
    "    img_file = txt_file.replace(\".txt\", \".JPG\")\n",
    "    img_file = img_file.replace(\"labels\", \"images\")\n",
    "    # Initialize a 4-dimensional zero vector for the labels !!! MAKE SURE TO CHANGE IF YOU HAVE MORE CLASSES !!!\n",
    "    labels = np.zeros(5, dtype=int)\n",
    "    print(txt_file)\n",
    "    # Read the YOLO annotation file\n",
    "    with open(txt_file, \"r\") as f:\n",
    "        for line in f:\n",
    "            items = line.strip().split()\n",
    "            if len(items) >= 5:\n",
    "                class_id = int(items[0])\n",
    "                # Mark that class_id as present\n",
    "                labels[class_id] = 1\n",
    "\n",
    "    # Append to X and y\n",
    "    X.append(img_file)     # or store actual image data if needed\n",
    "    y.append(labels)\n",
    "\n",
    "X = np.array(X)\n",
    "X = X.reshape(-1, 1)\n",
    "y = np.array(y)\n",
    "print(\"Data extracted into numpy arrays\")\n",
    "\n",
    "val_size = 0.15 #20% of the data will be used for test\n",
    "\n",
    "# Perform the iterative train/test split\n",
    "X_train, y_train, X_val, y_val = iterative_train_test_split(X, y, test_size=val_size)\n",
    "X_val = X_val.ravel()  \n",
    "X_train = X_train.ravel()\n",
    "print(\"Proportions:\")\n",
    "print(\"  train:\", X_train.shape, y_train.shape)\n",
    "print(\"  val:     \", X_val.shape,    y_val.shape)\n",
    "\n",
    "# Summarize the TRAIN data\n",
    "train_counts = y_train.sum(axis=0)\n",
    "print(f\"TRAIN - counts per class: {train_counts}\")\n",
    "print(f\"TRAIN - total samples: {len(y_train)}\\n\")\n",
    "\n",
    "# Summarize the TEST data\n",
    "val_counts = y_val.sum(axis=0)\n",
    "print(f\"VAL - counts per class: {val_counts}\")\n",
    "print(f\"VAL - total samples: {len(y_val)}\\n\")\n",
    "\n"
   ]
  },
  {
   "cell_type": "markdown",
   "metadata": {},
   "source": [
    "Move files into the correct folders"
   ]
  },
  {
   "cell_type": "code",
   "execution_count": null,
   "metadata": {
    "vscode": {
     "languageId": "python"
    }
   },
   "outputs": [],
   "source": [
    "#Change these to your directories\n",
    "labels_dir = \"E:\\\\Wild deserts photos\\\\model_training\\\\dayv4\\\\labels\"\n",
    "images_dir = \"E:\\\\Wild deserts photos\\\\model_training\\\\dayv4\\\\images\"\n",
    "# Create \"labels\" and \"images\" folders in each directory\n",
    "for directory in [labels_dir, images_dir]:\n",
    "    os.makedirs(os.path.join(directory, \"val\"), exist_ok=True)\n",
    "    os.makedirs(os.path.join(directory, \"train\"), exist_ok=True)\n",
    "    #os.makedirs(os.path.join(directory, \"val\"), exist_ok=True)\n",
    "# Copy test images and labels. Note that this leaves the files in the original directories too\n",
    "for img_path in tqdm(X_val, desc=\"Copying val data\"):\n",
    "    \n",
    "    txt_path = img_path.replace(\".JPG\", \".txt\")\n",
    "    txt_path = txt_path.replace(\"images\", \"labels\")\n",
    "\n",
    "    shutil.move(img_path, os.path.join(images_dir, \"val\"))\n",
    "    shutil.move(txt_path, os.path.join(labels_dir, \"val\"))\n",
    "# Copy training images and labels\n",
    "for img_path in tqdm(X_train, desc=\"Copying training data\"):\n",
    "    txt_path = img_path.replace(\".JPG\", \".txt\")  # or .png, whichever you have\n",
    "    txt_path = txt_path.replace(\"images\", \"labels\")\n",
    "    shutil.move(img_path, os.path.join(images_dir, \"train\"))\n",
    "    shutil.move(txt_path, os.path.join(labels_dir, \"train\"))\n"
   ]
  },
  {
   "cell_type": "markdown",
   "metadata": {},
   "source": [
    "## Delete duplicate images from two directories"
   ]
  },
  {
   "cell_type": "code",
   "execution_count": null,
   "metadata": {
    "vscode": {
     "languageId": "python"
    }
   },
   "outputs": [],
   "source": [
    "import os\n",
    "\n",
    "# Define the directories\n",
    "dir2 = \"C:\\\\Users\\\\willo\\\\OneDrive - UNSW\\\\Documents\\\\Work\\\\CES\\\\Wild Deserts\\\\Image classification\\\\feedback_loop\\\\v1_night_16012025\\\\images\\\\val\"\n",
    "# Walk through all subdirectories in the root directory\n",
    "for root, dirs, files in os.walk(\"D:\\\\Wild deserts photos\\\\Reconyx\"):\n",
    "    # Get the list of image files in each subdirectory\n",
    "    images_dir1 = set(os.listdir(root))\n",
    "    images_dir2 = set(os.listdir(dir2))\n",
    "\n",
    "    # Find the intersection of the two sets\n",
    "    shared_images = images_dir1.intersection(images_dir2)\n",
    "\n",
    "    # Delete the shared images from the current subdirectory\n",
    "    for image in shared_images:\n",
    "        print(image)\n",
    "        image_path = os.path.join(root, image)\n",
    "        if os.path.exists(image_path):\n",
    "            os.remove(image_path)\n",
    "            print(f\"Deleted {image_path}\")\n"
   ]
  },
  {
   "cell_type": "markdown",
   "metadata": {},
   "source": [
    "## Check distribution of labels in directory \n",
    "- Need to remember to change the classes file and also the directory"
   ]
  },
  {
   "cell_type": "code",
   "execution_count": null,
   "metadata": {
    "vscode": {
     "languageId": "python"
    }
   },
   "outputs": [],
   "source": [
    "import os\n",
    "\n",
    "# Define the YOLO classes in the correct order\n",
    "CLASSES = [\n",
    "\"Kangaroo\",\n",
    "\"Cat\",\n",
    "\"Rabbit\",\n",
    "\"Dingo\",\n",
    "\"Fox\",\n",
    "]\n",
    "\n",
    "# Define a background category that is not part of the original YOLO classes\n",
    "BACKGROUND_CATEGORY = \"Background\"\n",
    "\n",
    "# Path to your folder containing .txt annotation files\n",
    "folder_path = r\"E:\\Wild deserts photos\\model_training\\dayv4\\labels\\train\"\n",
    "\n",
    "# Create a count dictionary initialized to zero for each class and background\n",
    "label_counts = {cls: 0 for cls in CLASSES}\n",
    "label_counts[BACKGROUND_CATEGORY] = 0\n",
    "\n",
    "# Loop through all .txt files in the folder\n",
    "for filename in os.listdir(folder_path):\n",
    "    if filename.endswith(\".txt\"):\n",
    "        \n",
    "        txt_file_path = os.path.join(folder_path, filename)\n",
    "        \n",
    "        with open(txt_file_path, \"r\") as file:\n",
    "            lines = file.readlines()\n",
    "            \n",
    "            # Check if the file has any non-empty lines\n",
    "            if not any(line.strip() for line in lines):\n",
    "                # If no labels are present, count as background\n",
    "                label_counts[BACKGROUND_CATEGORY] += 1\n",
    "            else:\n",
    "                # Otherwise, process each line as usual\n",
    "                for line in lines:\n",
    "                    line = line.strip()\n",
    "                    if line:\n",
    "                        class_index = int(line.split()[0])  # YOLO class index\n",
    "                        label_counts[CLASSES[class_index]] += 1\n",
    "\n",
    "# Print out the counts per class including background\n",
    "for cls_name, cls_count in label_counts.items():\n",
    "    print(f\"{cls_name}: {cls_count}\")\n"
   ]
  },
  {
   "cell_type": "markdown",
   "metadata": {},
   "source": [
    "Plot distribution"
   ]
  },
  {
   "cell_type": "code",
   "execution_count": null,
   "metadata": {
    "vscode": {
     "languageId": "python"
    }
   },
   "outputs": [],
   "source": [
    "import matplotlib.pyplot as plt\n",
    "plt.bar(range(len(label_counts)), list(label_counts.values()), align='center')\n",
    "plt.xticks(range(len(label_counts)), list(label_counts.keys()))\n",
    "plt.tick_params(axis='x', labelrotation=90) \n",
    "plt.figure(figsize=(10, 6))\n",
    "plt.show()"
   ]
  },
  {
   "cell_type": "markdown",
   "metadata": {},
   "source": [
    "## Copy images that are needed for more training"
   ]
  },
  {
   "cell_type": "code",
   "execution_count": null,
   "metadata": {
    "vscode": {
     "languageId": "python"
    }
   },
   "outputs": [],
   "source": [
    "import os\n",
    "import shutil\n",
    "\n",
    "# --- Configuration ---\n",
    "\n",
    "# List of YOLO classes in order (adjust to your own class list)\n",
    "CLASSES = [\n",
    "    \"Kangaroo\", \n",
    "    \"Cat\", \n",
    "    \"Rabbit\", \n",
    "    \"Dingo\", \n",
    "    \"Fox\"\n",
    "]\n",
    "\n",
    "# Specify which classes you want to extract (by name)\n",
    "desired_classes = [\"Cat\", \"Rabbit\", \"Dingo\", \"Fox\"]\n",
    "\n",
    "# Convert desired class names to their corresponding indices.\n",
    "desired_indices = [CLASSES.index(cls) for cls in desired_classes]\n",
    "\n",
    "# Paths (update these to point to your folders)\n",
    "label_folder = \"C:\\\\Users\\\\willo\\\\OneDrive - UNSW\\\\Documents\\\\Work\\\\CES\\\\Wild Deserts\\\\Image classification\\\\feedback_loop\\\\v2_day_230125\\\\corrected_v1_data_pcam01_02_03_13_14\\\\labels\"      # Folder containing YOLO .txt files\n",
    "image_folder = \"C:\\\\Users\\\\willo\\\\OneDrive - UNSW\\\\Documents\\\\Work\\\\CES\\\\Wild Deserts\\\\Image classification\\\\feedback_loop\\\\v2_day_230125\\\\corrected_v1_data_pcam01_02_03_13_14\\\\images\"      # Folder containing the corresponding images\n",
    "output_label_folder = \"C:\\\\Users\\\\willo\\\\OneDrive - UNSW\\\\Documents\\\\Work\\\\CES\\\\Wild Deserts\\\\Image classification\\\\feedback_loop\\\\v2_day_230125\\\\corrected_v1_data_pcam01_02_03_13_14\\\\no_kangaroos\\\\labels\"  # Destination folder for filtered label files\n",
    "output_image_folder = \"C:\\\\Users\\\\willo\\\\OneDrive - UNSW\\\\Documents\\\\Work\\\\CES\\\\Wild Deserts\\\\Image classification\\\\feedback_loop\\\\v2_day_230125\\\\corrected_v1_data_pcam01_02_03_13_14\\\\no_kangaroos\\\\images\"  # Destination folder for filtered images\n",
    "\n",
    "# Create output directories if they don't exist\n",
    "os.makedirs(output_label_folder, exist_ok=True)\n",
    "os.makedirs(output_image_folder, exist_ok=True)\n",
    "\n",
    "# --- Processing ---\n",
    "\n",
    "# Function to try finding an image file with a given base name and common image extensions.\n",
    "def find_image_file(base_name, folder, extensions=(\".jpg\", \".jpeg\", \".png\")):\n",
    "    for ext in extensions:\n",
    "        candidate = os.path.join(folder, base_name + ext)\n",
    "        if os.path.exists(candidate):\n",
    "            return candidate\n",
    "    return None\n",
    "\n",
    "# Iterate over all label files in the label_folder\n",
    "for label_filename in os.listdir(label_folder):\n",
    "    if label_filename.endswith(\".txt\"):\n",
    "        label_path = os.path.join(label_folder, label_filename)\n",
    "        with open(label_path, \"r\") as f:\n",
    "            lines = f.readlines()\n",
    "        \n",
    "        # Check if any annotation in the file corresponds to one of the desired classes\n",
    "        keep_file = False\n",
    "        for line in lines:\n",
    "            line = line.strip()\n",
    "            if line:\n",
    "                # YOLO annotation format: class_index center_x center_y width height ...\n",
    "                parts = line.split()\n",
    "                class_index = int(parts[0])\n",
    "                if class_index in desired_indices:\n",
    "                    keep_file = True\n",
    "                    break\n",
    "        \n",
    "        # If the file contains at least one annotation of interest, copy both label and image.\n",
    "        if keep_file:\n",
    "            # Copy label file\n",
    "            shutil.copy(label_path, os.path.join(output_label_folder, label_filename))\n",
    "            \n",
    "            # Assume the image file has the same base name as the label file\n",
    "            base_name = os.path.splitext(label_filename)[0]\n",
    "            image_path = find_image_file(base_name, image_folder)\n",
    "            if image_path:\n",
    "                shutil.copy(image_path, os.path.join(output_image_folder, os.path.basename(image_path)))\n",
    "            else:\n",
    "                print(f\"Image for {base_name} not found in {image_folder}\")\n"
   ]
  },
  {
   "cell_type": "markdown",
   "metadata": {},
   "source": [
    "## Remove background images to bring it down to a reasonable number"
   ]
  },
  {
   "cell_type": "code",
   "execution_count": null,
   "metadata": {
    "vscode": {
     "languageId": "python"
    }
   },
   "outputs": [],
   "source": [
    "import os\n",
    "import random\n",
    "import math\n",
    "# -----------------------------------------\n",
    "# 1. Configure your paths\n",
    "# -----------------------------------------\n",
    "images_dir = \"D:\\\\Wild deserts photos\\\\model_training\\\\day_v3\\\\images\"\n",
    "labels_dir = \"D:\\\\Wild deserts photos\\\\model_training\\\\day_v3\\\\labels\"  # YOLO annotation files\n",
    "# For YOLO, typically annotation files have the same basename with a \".txt\" extension.\n",
    "\n",
    "image_extensions = {\".jpg\", \".jpeg\", \".png\"}  # Adjust as needed\n",
    "\n",
    "\n",
    "\n"
   ]
  },
  {
   "cell_type": "code",
   "execution_count": null,
   "metadata": {
    "vscode": {
     "languageId": "python"
    }
   },
   "outputs": [],
   "source": [
    "# --------------------------------------------------------\n",
    "# 2. Separate annotated vs. background images\n",
    "# --------------------------------------------------------\n",
    "annotated_images = []\n",
    "background_images = []\n",
    "\n",
    "all_image_files = [\n",
    "    f for f in os.listdir(images_dir)\n",
    "    if os.path.splitext(f)[1].lower() in image_extensions\n",
    "]\n",
    "\n",
    "for image_file in all_image_files:\n",
    "    # Derive label file name from image file name\n",
    "    base_name, _ = os.path.splitext(image_file)\n",
    "    label_file = base_name + \".txt\"\n",
    "    label_path = os.path.join(labels_dir, label_file)\n",
    "    \n",
    "    if not os.path.exists(label_path):\n",
    "        # No label file => background\n",
    "        background_images.append(image_file)\n",
    "    else:\n",
    "        # Check if label file is empty\n",
    "        if os.path.getsize(label_path) == 0:\n",
    "            background_images.append(image_file)\n",
    "        else:\n",
    "            annotated_images.append(image_file)\n",
    "\n",
    "A = len(annotated_images)\n",
    "B = len(background_images)\n",
    "print(f\"Annotated images: {A}\")\n",
    "print(f\"Background images: {B}\")\n",
    "total_before = A + B\n",
    "print(f\"Total images before cleanup: {total_before}\")"
   ]
  },
  {
   "cell_type": "code",
   "execution_count": null,
   "metadata": {
    "vscode": {
     "languageId": "python"
    }
   },
   "outputs": [],
   "source": [
    "# --------------------------------------------------------\n",
    "# 3. Calculate how many background images we want to keep\n",
    "#    to have them be ~10% of the entire dataset\n",
    "# --------------------------------------------------------\n",
    "# B_keep = A/9 if we can achieve a 10% ratio, else just keep all background if B < A/9\n",
    "ideal_background_to_keep = int(math.floor(A / 9))  # or round(A/9) if you prefer rounding\n",
    "if B > ideal_background_to_keep:\n",
    "    B_keep = ideal_background_to_keep\n",
    "else:\n",
    "    B_keep = B"
   ]
  },
  {
   "cell_type": "code",
   "execution_count": null,
   "metadata": {
    "vscode": {
     "languageId": "python"
    }
   },
   "outputs": [],
   "source": [
    "# --------------------------------------------------------\n",
    "# 4. Randomly select which background images to keep\n",
    "# --------------------------------------------------------\n",
    "random.shuffle(background_images)\n",
    "background_keep = set(background_images[:B_keep])\n",
    "background_remove = background_images[B_keep:]\n",
    "\n",
    "# --------------------------------------------------------\n",
    "# 5. Remove the excess background files\n",
    "# --------------------------------------------------------\n",
    "for image_file in background_remove:\n",
    "    # Remove the image\n",
    "    image_path = os.path.join(images_dir, image_file)\n",
    "    if os.path.exists(image_path):\n",
    "        os.remove(image_path)\n",
    "    \n",
    "    # Remove the label file if it exists\n",
    "    base_name, _ = os.path.splitext(image_file)\n",
    "    label_file = base_name + \".txt\"\n",
    "    label_path = os.path.join(labels_dir, label_file)\n",
    "    if os.path.exists(label_path):\n",
    "        os.remove(label_path)\n",
    "\n",
    "print(f\"Removed {len(background_remove)} background images.\")\n",
    "\n",
    "# --------------------------------------------------------\n",
    "# 6. Final check\n",
    "# --------------------------------------------------------\n",
    "final_annotated_count = len([f for f in annotated_images if os.path.exists(os.path.join(images_dir, f))])\n",
    "final_background_count = len(background_keep)\n",
    "final_total = final_annotated_count + final_background_count\n",
    "\n",
    "print(f\"Annotated images kept: {final_annotated_count}\")\n",
    "print(f\"Background images kept: {final_background_count}\")\n",
    "print(f\"Total images after cleanup: {final_total}\")\n",
    "\n",
    "if final_total > 0:\n",
    "    ratio = final_background_count / final_total\n",
    "    print(f\"Background ratio: {ratio:.2%}\")\n",
    "else:\n",
    "    print(\"No images left after cleanup!\")\n"
   ]
  },
  {
   "cell_type": "markdown",
   "metadata": {},
   "source": [
    "## Get image metadata using tesseract"
   ]
  },
  {
   "cell_type": "code",
   "execution_count": null,
   "metadata": {
    "vscode": {
     "languageId": "python"
    }
   },
   "outputs": [],
   "source": [
    "from PIL import Image\n",
    "import pytesseract\n",
    "import pandas as pd"
   ]
  },
  {
   "cell_type": "code",
   "execution_count": null,
   "metadata": {
    "vscode": {
     "languageId": "python"
    }
   },
   "outputs": [],
   "source": [
    "image_path = \"E:\\\\Wild deserts photos\\\\2024_04_WCAM_originals_classified\\\\new_struct\\\\WCAM05\\\\labels_images\\\\predict\\\\annotated\\\\RCNX0004 (2)_none.JPG\"\n",
    "df = pd.DataFrame(pytesseract.image_to_data(image_path, output_type=pytesseract.Output.DICT))\n",
    "\n",
    "# Display the DataFrame\n",
    "print(df)\n"
   ]
  },
  {
   "cell_type": "code",
   "execution_count": null,
   "metadata": {
    "vscode": {
     "languageId": "python"
    }
   },
   "outputs": [],
   "source": [
    "import pandas as pd\n",
    "import pytesseract\n",
    "import os\n",
    "from pathlib import Path\n",
    "\n",
    "# Define the folder path\n",
    "folder_path = \"E:\\\\Wild deserts photos\\\\2024_04_WCAM_originals_classified\\\\new_struct\\\\WCAM05\\\\labels_images\\\\predict\\\\annotated\"\n",
    "\n",
    "# List to store all DataFrames\n",
    "all_dfs = []\n",
    "\n",
    "# Iterate through all files in the folder\n",
    "for filename in os.listdir(folder_path):\n",
    "    # Check if the file is an image (you can add more extensions if needed)\n",
    "    if filename.lower().endswith(('.jpg', '.jpeg', '.png')):\n",
    "        # Create full file path\n",
    "        image_path = os.path.join(folder_path, filename)\n",
    "        \n",
    "        try:\n",
    "            # Process image and create DataFrame\n",
    "            df = pd.DataFrame(pytesseract.image_to_data(image_path, output_type=pytesseract.Output.DICT))\n",
    "            \n",
    "            # Add filename column to identify source image\n",
    "            df['source_image'] = filename\n",
    "            \n",
    "            # Append to list of DataFrames\n",
    "            all_dfs.append(df)\n",
    "            \n",
    "            print(f\"Processed: {filename}\")\n",
    "            \n",
    "        except Exception as e:\n",
    "            print(f\"Error processing {filename}: {str(e)}\")\n",
    "\n",
    "# Combine all DataFrames\n",
    "if all_dfs:\n",
    "    final_df = pd.concat(all_dfs, ignore_index=True).dropna()\n",
    "    \n",
    "    # Display the first few rows of the combined DataFrame\n",
    "    print(\"\\nCombined DataFrame head:\")\n",
    "    print(final_df.head())\n",
    "\n",
    "else:\n",
    "    print(\"No images were processed successfully.\")"
   ]
  },
  {
   "cell_type": "code",
   "execution_count": null,
   "metadata": {
    "vscode": {
     "languageId": "python"
    }
   },
   "outputs": [],
   "source": [
    "import re\n",
    "# First, let's look at what we're working with\n",
    "print(\"Sample of current data:\")\n",
    "print(final_df[['source_image', 'text']].head(10))\n",
    "\n",
    "# Group by source image and aggregate the text values\n",
    "grouped = final_df.groupby('source_image')['text'].agg(list).reset_index()\n",
    "\n",
    "# Function to extract the required information from the list of text values\n",
    "def extract_info(text_list):\n",
    "    date = None\n",
    "    time = None\n",
    "    fraction = None\n",
    "    \n",
    "    for text in text_list:\n",
    "        if isinstance(text, str):  # Check if the value is a string\n",
    "            # Date pattern: YYYY-MM-DD\n",
    "            date_match = re.search(r'\\d{4}-\\d{2}-\\d{2}', text)\n",
    "            if date_match:\n",
    "                date = date_match.group()\n",
    "            \n",
    "            # Time pattern: HH:MM:SS\n",
    "            time_match = re.search(r'\\d{2}:\\d{2}:\\d{2}', text)\n",
    "            if time_match:\n",
    "                time = time_match.group()\n",
    "            \n",
    "            # Fraction pattern: N/3\n",
    "            fraction_match = re.search(r'[123]/3', text)\n",
    "            if fraction_match:\n",
    "                fraction = fraction_match.group()\n",
    "    \n",
    "    return pd.Series([date, time, fraction], index=['date', 'time', 'fraction'])\n",
    "\n",
    "# Apply the extraction function\n",
    "result_df = grouped.join(grouped['text'].apply(extract_info))\n",
    "\n",
    "# Check the results\n",
    "print(\"\\nProcessed data:\")\n",
    "print(result_df.head())\n",
    "\n",
    "# Verify we got all the information\n",
    "print(\"\\nNull values in each column:\")\n",
    "print(result_df[['date', 'time', 'fraction']].isna().sum())"
   ]
  },
  {
   "cell_type": "code",
   "execution_count": null,
   "metadata": {
    "vscode": {
     "languageId": "python"
    }
   },
   "outputs": [],
   "source": []
  },
  {
   "cell_type": "markdown",
   "metadata": {},
   "source": [
    "### Cropping images for classification (not object detection)"
   ]
  },
  {
   "cell_type": "code",
   "execution_count": null,
   "metadata": {
    "vscode": {
     "languageId": "python"
    }
   },
   "outputs": [],
   "source": [
    "import cv2\n",
    "img = cv2.imread(\"E:\\\\Wild deserts photos\\\\model_training\\\\night_no_fences_bilbies_quolls_blobs\\\\images\\\\train\\\\2017-11-08 21-50-40 M 1_3.JPG\")\n",
    "x = 0.745573 0.580093 0.305729 0.315741\n",
    "\n",
    "\n",
    "\n",
    "\n",
    "crop_img = img[y:y+h, x:x+w]\n",
    "cv2.imshow(\"cropped\", crop_img)\n",
    "cv2.waitKey(0)"
   ]
  },
  {
   "cell_type": "code",
   "execution_count": null,
   "metadata": {
    "vscode": {
     "languageId": "python"
    }
   },
   "outputs": [],
   "source": [
    "\n",
    "def crop_image_normalized(image_path, normalized_coords):\n",
    "    print(image_path, normalized_coords)\n",
    "    try:\n",
    "        img = Image.open(image_path)\n",
    "        width, height = img.size\n",
    "\n",
    "        x_center_norm, y_center_norm, w_norm, h_norm = map(float, normalized_coords[0:4])\n",
    "        # Convert normalized coordinates to pixel coordinates\n",
    "        x_center = x_center_norm * width\n",
    "        y_center = y_center_norm * height\n",
    "        w = w_norm * width\n",
    "        h = h_norm * height\n",
    "\n",
    "        # Calculate the coordinates of the bounding box\n",
    "        left = int(x_center - w / 2)\n",
    "        top = int(y_center - h / 2)\n",
    "        right = int(x_center + w / 2)\n",
    "        bottom = int(y_center + h / 2)\n",
    "\n",
    "        # Ensure the bounding box is within the image boundaries\n",
    "        left = max(0, left)\n",
    "        top = max(0, top)\n",
    "        right = min(width, right)\n",
    "        bottom = min(height, bottom)\n",
    "\n",
    "        # Crop the image\n",
    "        cropped_img = img.crop((left, top, right, bottom))\n",
    "        return cropped_img\n",
    "\n",
    "    except FileNotFoundError:\n",
    "        print(f\"Error: Image not found at {image_path}\")\n",
    "        return None\n",
    "    except ValueError:\n",
    "        print(f\"Error: Invalid normalized coordinates format: {normalized_coords}. Expected 'x y w h'.\")\n",
    "        return None\n",
    "    "
   ]
  },
  {
   "cell_type": "code",
   "execution_count": null,
   "metadata": {
    "vscode": {
     "languageId": "python"
    }
   },
   "outputs": [],
   "source": [
    "image_path = \"E:/Wild deserts photos/model_training/night_no_fences_bilbies_quolls_blobs/images/train/2017-11-08 21-50-40 M 1_3.JPG\"\n",
    "normalized_coords = ['0.588542', '0.694444', '0.252083', '0.475926']\n"
   ]
  },
  {
   "cell_type": "code",
   "execution_count": null,
   "metadata": {
    "vscode": {
     "languageId": "python"
    }
   },
   "outputs": [],
   "source": [
    "\n",
    "\n"
   ]
  },
  {
   "cell_type": "code",
   "execution_count": null,
   "metadata": {
    "vscode": {
     "languageId": "python"
    }
   },
   "outputs": [],
   "source": [
    "class_list = [\"Kangaroo\", \"Cat\", \"Rabbit\", \"Dingo\", \"Fox\", \"Bilby\", \"Quoll\", \"Unidentifiable\"]\n",
    "pattern = r\"[^\\\\/]+$\"\n",
    "output_parent_dir = \"E:\\\\Wild deserts photos\\\\model_training\\\\classificationv1_day\\\\\"\n",
    "for file_path in glob(\"E:\\\\Wild deserts photos\\\\model_training\\\\night_no_fences_bilbies_quolls_blobs\\\\labels\\\\val\\\\*.txt\"):\n",
    "    img_path = file_path.replace(\".txt\", \".JPG\")\n",
    "    img_path = img_path.replace(\"labels\", \"images\")\n",
    "    \n",
    "    match = re.search(pattern, img_path)\n",
    "    file_name = match.group(0) if match else None\n",
    "    \n",
    "    # Ensure file_name has the correct extension\n",
    "    if file_name and not file_name.lower().endswith('.jpg'):\n",
    "        file_name = f\"{os.path.splitext(file_name)[0]}.jpg\"\n",
    "    \n",
    "    print(f'Processing: {file_path}')\n",
    "    print(f'Image path: {img_path}')\n",
    "    print(f'File name: {file_name}')\n",
    "    \n",
    "    with open(file_path, 'r', encoding='utf-8') as file:\n",
    "        lines = file.readlines()\n",
    "        i = 0\n",
    "        for line in lines:\n",
    "            parts = line.strip().split()\n",
    "            if not parts:\n",
    "                print(\"empty line\")\n",
    "                continue  # Skip empty lines\n",
    "\n",
    "            try:\n",
    "                species = int(parts[0])\n",
    "            except ValueError:\n",
    "                print(f\"Warning: Could not convert '{parts[0]}' to an integer species ID in {file_path}\")\n",
    "                continue\n",
    "            \n",
    "            \n",
    "            if species == 7:\n",
    "                output_dir = os.path.join(output_parent_dir, \"blobs\")\n",
    "                os.makedirs(output_dir, exist_ok=True)\n",
    "                \n",
    "                # Ensure full file path with extension\n",
    "                output_filename = os.path.join(output_dir, f\"{file_name}_{i}.jpg\")\n",
    "                \n",
    "                shutil.copy(img_path, output_filename)\n",
    "                i += 1\n",
    "            else:\n",
    "                species_name = class_list[species]\n",
    "                coordinates = line.split()[1:]\n",
    "                \n",
    "                if coordinates:\n",
    "                    output_dir = os.path.join(output_parent_dir, species_name)\n",
    "                    os.makedirs(output_dir, exist_ok=True)\n",
    "                    \n",
    "                    # Ensure full file path with extension\n",
    "                    output_filename = os.path.join(output_dir, f\"{file_name}_{i}.jpg\")\n",
    "                    \n",
    "                    img = crop_image_normalized(img_path, coordinates)\n",
    "                    img.save(output_filename)\n",
    "                    i += 1\n",
    "                    \n",
    "\n",
    "                    \n",
    "                    \n",
    "            \n",
    "\n",
    "\n",
    "\n",
    "    \n",
    "\n",
    "print(\"Done!\")"
   ]
  },
  {
   "cell_type": "code",
   "execution_count": null,
   "metadata": {
    "vscode": {
     "languageId": "python"
    }
   },
   "outputs": [],
   "source": [
    "test\n"
   ]
  },
  {
   "cell_type": "markdown",
   "metadata": {},
   "source": [
    "## For YOLO-cls train/test splitting\n",
    "Just some gemini code"
   ]
  },
  {
   "cell_type": "code",
   "execution_count": null,
   "metadata": {
    "vscode": {
     "languageId": "python"
    }
   },
   "outputs": [],
   "source": [
    "import os\n",
    "import shutil\n",
    "import random\n",
    "\n",
    "def split_data(data_dir, train_ratio=0.8, test_ratio=0.2):\n",
    "    \"\"\"\n",
    "    Splits image data into train and test folders.\n",
    "\n",
    "    Args:\n",
    "        data_dir (str): Path to the directory containing the image folders.\n",
    "        train_ratio (float): Ratio of images to be used for training.\n",
    "        test_ratio (float): Ratio of images to be used for testing.\n",
    "    \"\"\"\n",
    "\n",
    "    if not os.path.exists(data_dir):\n",
    "        print(f\"Error: Directory '{data_dir}' does not exist.\")\n",
    "        return\n",
    "\n",
    "    train_dir = os.path.join(data_dir, \"train\")\n",
    "    test_dir = os.path.join(data_dir, \"test\")\n",
    "\n",
    "    os.makedirs(train_dir, exist_ok=True)\n",
    "    os.makedirs(test_dir, exist_ok=True)\n",
    "\n",
    "    class_folders = [f for f in os.listdir(data_dir) if os.path.isdir(os.path.join(data_dir, f)) and f not in [\"train\", \"test\"]]\n",
    "\n",
    "    if not class_folders:\n",
    "        print(\"Error: No class folders found in the data directory.\")\n",
    "        return\n",
    "\n",
    "    for class_folder in class_folders:\n",
    "        class_path = os.path.join(data_dir, class_folder)\n",
    "        images = [f for f in os.listdir(class_path) if f.lower().endswith(('.png', '.jpg', '.jpeg', '.bmp', '.gif'))]\n",
    "\n",
    "        random.shuffle(images)\n",
    "\n",
    "        train_size = int(len(images) * train_ratio)\n",
    "        train_images = images[:train_size]\n",
    "        test_images = images[train_size:]\n",
    "\n",
    "        train_class_dir = os.path.join(train_dir, class_folder)\n",
    "        test_class_dir = os.path.join(test_dir, class_folder)\n",
    "\n",
    "        os.makedirs(train_class_dir, exist_ok=True)\n",
    "        os.makedirs(test_class_dir, exist_ok=True)\n",
    "\n",
    "        for image in train_images:\n",
    "            src_path = os.path.join(class_path, image)\n",
    "            dst_path = os.path.join(train_class_dir, image)\n",
    "            shutil.copy2(src_path, dst_path)\n",
    "\n",
    "        for image in test_images:\n",
    "            src_path = os.path.join(class_path, image)\n",
    "            dst_path = os.path.join(test_class_dir, image)\n",
    "            shutil.copy2(src_path, dst_path)\n",
    "\n",
    "    print(\"Data split into train and test folders successfully.\")\n",
    "\n",
    "# Example usage within a Jupyter Notebook:\n",
    "data_directory = \"E:\\\\Wild deserts photos\\\\model_training\\\\classificationv1\"  # Replace with your actual data directory\n",
    "split_data(data_directory)"
   ]
  }
 ],
 "metadata": {
  "language_info": {
   "name": "plaintext"
  }
 },
 "nbformat": 4,
 "nbformat_minor": 2
}
