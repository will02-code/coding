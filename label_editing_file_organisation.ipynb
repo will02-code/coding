{
 "cells": [
  {
   "cell_type": "markdown",
   "metadata": {},
   "source": [
    "# Organisation notebook\n",
    "This notebook is for all of the things involved in the image classification that are not the actual model training/validation/inference:\n",
    "- classification into day/night images'\n",
    "- sorting datasets into balanced test/train/val sets \n",
    "- checking how many instances of classes are in a labels folder\n",
    "- relabelling of images by replacing values in the label files\n",
    "- Deleting duplicate images from training/val datasets to prevent data leakage"
   ]
  },
  {
   "cell_type": "code",
   "execution_count": null,
   "metadata": {
    "vscode": {
     "languageId": "python"
    }
   },
   "outputs": [],
   "source": [
    "import shutil\n",
    "import cv2\n",
    "from ultralytics import YOLO\n",
    "import os\n",
    "import pandas as pd\n",
    "import time\n",
    "from glob import glob\n",
    "import re\n",
    "import numpy as np\n",
    "from tqdm import tqdm\n",
    "from skmultilearn.model_selection import iterative_train_test_split"
   ]
  },
  {
   "cell_type": "markdown",
   "metadata": {},
   "source": [
    "## Sort images into day/night\n",
    "- This classifies images in any directory into day/night images based on hue\n",
    "- It misses some images (<10 per 1000) so some manual checking is needed"
   ]
  },
  {
   "cell_type": "markdown",
   "metadata": {},
   "source": [
    "Specifically for labelled images"
   ]
  },
  {
   "cell_type": "code",
   "execution_count": null,
   "metadata": {
    "vscode": {
     "languageId": "python"
    }
   },
   "outputs": [],
   "source": [
    "# Define the source directory and the target directories for day and night images\n",
    "image_source_directory = \"D:\\\\Wild deserts photos\\\\model_val\\\\all_images\\\\val\\\\images\"\n",
    "label_source_directory = \"D:\\\\Wild deserts photos\\\\model_val\\\\all_images\\\\val\\\\labels\"\n",
    "\n",
    "day_directory_images = \"D:\\\\Wild deserts photos\\\\model_val\\\\day_images\\\\val\\\\images\"\n",
    "day_directory_labels = \"D:\\\\Wild deserts photos\\\\model_val\\\\day_images\\\\val\\\\labels\"\n",
    "\n",
    "night_directory_images = \"D:\\\\Wild deserts photos\\\\model_val\\\\night_images\\\\val\\\\images\"\n",
    "night_directory_labels = \"D:\\\\Wild deserts photos\\\\model_val\\\\night_images\\\\val\\\\images\"\n",
    "\n",
    "# Create the target directories if they do not exist\n",
    "os.makedirs(day_directory_images, exist_ok=True)\n",
    "os.makedirs(day_directory_labels, exist_ok=True)\n",
    "os.makedirs(night_directory_images, exist_ok=True)\n",
    "os.makedirs(night_directory_labels, exist_ok=True)\n",
    "\n",
    "def classify_image(image_path):\n",
    "    image = cv2.imread(image_path)\n",
    "    hsv_image = cv2.cvtColor(image, cv2.COLOR_BGR2HSV)\n",
    "    brightness = hsv_image[:, :, 2].mean()  # V channel represents brightness\n",
    "    hue = hsv_image[:, :, 0].mean()  # H channel represents hue\n",
    "    # Adjust the thresholds as needed\n",
    "    if hue > 10:\n",
    "        return 'day'\n",
    "    else:\n",
    "        return 'night'\n",
    "\n",
    "# Classify and copy images and labels\n",
    "for filename in os.listdir(image_source_directory):\n",
    "    if filename.endswith(\".JPG\") or filename.endswith(\".jpg\"):\n",
    "        image_path = os.path.join(image_source_directory, filename)\n",
    "        label_path = os.path.join(label_source_directory, filename.replace(\".JPG\", \".txt\").replace(\".jpg\", \".txt\"))\n",
    "        print(f\"Classifying {image_path}\")\n",
    "        classification = classify_image(image_path)\n",
    "        if classification == 'day':\n",
    "            shutil.copy(image_path, os.path.join(day_directory_images, filename))\n",
    "            shutil.copy(label_path, os.path.join(day_directory_labels, os.path.basename(label_path)))\n",
    "        else:\n",
    "            shutil.copy(image_path, os.path.join(night_directory_images, filename))\n",
    "            shutil.copy(label_path, os.path.join(night_directory_labels, os.path.basename(label_path)))\n",
    "\n",
    "print(\"Classification and copying completed!\")"
   ]
  },
  {
   "cell_type": "markdown",
   "metadata": {},
   "source": [
    "For unlabelled images/just a directory of images"
   ]
  },
  {
   "cell_type": "code",
   "execution_count": null,
   "metadata": {
    "vscode": {
     "languageId": "python"
    }
   },
   "outputs": [],
   "source": [
    "# Define the source directory and the target directories for day and night images\n",
    "image_source_directory = \"D:\\\\Wild deserts photos\\\\Reconyx\\\\BeyondTheFence\\\\PCAM14\"\n",
    "\n",
    "day_directory_images = \"D:\\\\Wild deserts photos\\\\Reconyx\\\\BeyondTheFence\\\\PCAM14\\\\day\"\n",
    "\n",
    "night_directory_images = \"D:\\\\Wild deserts photos\\\\Reconyx\\\\BeyondTheFence\\\\PCAM14\\\\night\"\n",
    "\n",
    "# Create the target directories if they do not exist\n",
    "os.makedirs(day_directory_images, exist_ok=True)\n",
    "os.makedirs(night_directory_images, exist_ok=True)\n",
    "\n",
    "def classify_image(image_path):\n",
    "    image = cv2.imread(image_path)\n",
    "    hsv_image = cv2.cvtColor(image, cv2.COLOR_BGR2HSV)\n",
    "    brightness = hsv_image[:, :, 2].mean()  # V channel represents brightness\n",
    "    hue = hsv_image[:, :, 0].mean()  # H channel represents hue\n",
    "    # Adjust the thresholds as needed\n",
    "    if hue > 10:\n",
    "        return 'day'\n",
    "    else:\n",
    "        return 'night'\n",
    "\n",
    "# Classify and copy images\n",
    "for filename in os.listdir(image_source_directory):\n",
    "    if filename.endswith(\".JPG\") or filename.endswith(\".jpg\"):\n",
    "        image_path = os.path.join(image_source_directory, filename)\n",
    "        print(image_path)\n",
    "        classification = classify_image(image_path)\n",
    "        if classification == 'day':\n",
    "            shutil.copy(image_path, os.path.join(day_directory_images, filename))\n",
    "        else:\n",
    "            shutil.copy(image_path, os.path.join(night_directory_images, filename))\n",
    "\n",
    "print(\"Classification and copying completed!\")"
   ]
  },
  {
   "cell_type": "markdown",
   "metadata": {},
   "source": [
    "## Reclassify labels and split into train/val sets\n",
    "- This uses some basic text editing to replace values that are being reclassified\n",
    "- Faster than reclassifying using X-Anylabel\n",
    "- I also split images into new test/train/val sets after reclassifying.\n",
    "    - I use iterative_train_test_split from Scikit-multilearn to perform stratified classification because of the imbalanced dataset\n",
    "    \n"
   ]
  },
  {
   "cell_type": "markdown",
   "metadata": {},
   "source": [
    "### Reclassification\n",
    "- remember to change the to_remove and the species"
   ]
  },
  {
   "cell_type": "code",
   "execution_count": null,
   "metadata": {
    "vscode": {
     "languageId": "python"
    }
   },
   "outputs": [],
   "source": [
    "for file_path in glob('D:\\\\Wild deserts photos\\\\model_val\\\\three_class_final_21_12_2024\\\\val\\\\labels\\\\*.txt'):\n",
    "    print(f'{file_path}')\n",
    "    with open(file_path, 'r', encoding='utf-8') as file:\n",
    "        lines = file.readlines()\n",
    "        modified_lines = []\n",
    "        for line in lines:\n",
    "            to_remove = re.match(r'^(0 .*\\n|3 .*\\n|4 .*\\n|7 .*\\n|9 .*\\n|10 .*\\n|13 .*\\n|15 .*\\n|6 .*\\n|2 .*\\n)', line)\n",
    "            kangaroo = re.match(r'^(14 |12 |8 |5 )', line)\n",
    "            rabbit = re.match(r'^(11 )', line)\n",
    "            #dingo = re.match(r'^(2 )', line)\n",
    "            #fox = re.match(r'^(6 )', line)\n",
    "            if to_remove:\n",
    "                continue  # Skip appending this line\n",
    "            elif kangaroo:\n",
    "                modified_line = re.sub(r'^(14 |12 |8 |5 )', '0 ', line)\n",
    "            elif rabbit:\n",
    "                modified_line = re.sub(r'^(11 )', \"2 \", line)\n",
    "            #elif dingo:\n",
    "            #    modified_line = re.sub(r'^(2 )', \"3 \", line)  \n",
    "            #elif fox:\n",
    "            #    modified_line = re.sub(r'^(6 )', \"4 \", line)  \n",
    "            else:\n",
    "                modified_line = line  \n",
    "            \n",
    "            modified_lines.append(modified_line)\n",
    "    with open(file_path, 'w', encoding='utf-8') as file:\n",
    "        file.writelines(modified_lines)\n",
    "        print(f'File written to: {file_path}')\n",
    "\n",
    "print(\"Done!\")"
   ]
  },
  {
   "cell_type": "markdown",
   "metadata": {},
   "source": [
    "### Split the reclassified images\n",
    "- remember to change the 4D zero vector according to the number of classes you have"
   ]
  },
  {
   "cell_type": "code",
   "execution_count": null,
   "metadata": {
    "vscode": {
     "languageId": "python"
    }
   },
   "outputs": [],
   "source": [
    "\n",
    "# Path to your YOLO .txt annotations\n",
    "annotations_path = \"C:\\\\Users\\\\willo\\\\OneDrive - UNSW\\\\Documents\\\\Work\\\\CES\\\\Wild Deserts\\\\Image classification\\\\feedback_loop\\\\v1_day_160125\\\\labels\\\\*.txt\"\n",
    "\n",
    "# List all .txt files\n",
    "txt_files = glob(annotations_path)\n",
    "\n",
    "X = []  # Will store image paths or anything representing the \"features\"\n",
    "y = []  # Will store the multi-label vectors of shape (16,)\n",
    "\n",
    "for txt_file in txt_files:\n",
    "    # Construct the corresponding image path\n",
    "    # (assuming .jpg files, adjust if your images are .png, etc.)\n",
    "    img_file = txt_file.replace(\".txt\", \".JPG\")\n",
    "    img_file = img_file.replace(\"labels\", \"images\")\n",
    "    # Initialize a 4-dimensional zero vector for the labels !!! MAKE SURE TO CHANGE IF YOU HAVE MORE CLASSES !!!\n",
    "    labels = np.zeros(5, dtype=int)\n",
    "    print(txt_file)\n",
    "    # Read the YOLO annotation file\n",
    "    with open(txt_file, \"r\") as f:\n",
    "        for line in f:\n",
    "            items = line.strip().split()\n",
    "            if len(items) >= 5:\n",
    "                class_id = int(items[0])\n",
    "                # Mark that class_id as present\n",
    "                labels[class_id] = 1\n",
    "\n",
    "    # Append to X and y\n",
    "    X.append(img_file)     # or store actual image data if needed\n",
    "    y.append(labels)\n",
    "\n",
    "X = np.array(X)\n",
    "X = X.reshape(-1, 1)\n",
    "y = np.array(y)\n",
    "print(\"Data extracted into numpy arrays\")\n",
    "\n",
    "val_size = 0.2 #20% of the data will be used for test\n",
    "\n",
    "# Perform the iterative train/test split\n",
    "X_train, y_train, X_val, y_val = iterative_train_test_split(X, y, test_size=val_size)\n",
    "X_val = X_test.ravel()  \n",
    "X_train = X_train.ravel()\n",
    "print(\"Proportions:\")\n",
    "print(\"  train:\", X_train.shape, y_train.shape)\n",
    "print(\"  val:     \", X_val.shape,    y_val.shape)\n",
    "\n",
    "# Summarize the TRAIN data\n",
    "train_counts = y_train.sum(axis=0)\n",
    "print(f\"TRAIN - counts per class: {train_counts}\")\n",
    "print(f\"TRAIN - total samples: {len(y_train)}\\n\")\n",
    "\n",
    "# Summarize the TEST data\n",
    "val_counts = y_val.sum(axis=0)\n",
    "print(f\"TEST - counts per class: {val_counts}\")\n",
    "print(f\"TEST - total samples: {len(y_val)}\\n\")\n",
    "\n"
   ]
  },
  {
   "cell_type": "markdown",
   "metadata": {},
   "source": [
    "Move files into the correct folders"
   ]
  },
  {
   "cell_type": "code",
   "execution_count": null,
   "metadata": {
    "vscode": {
     "languageId": "python"
    }
   },
   "outputs": [],
   "source": [
    "#Change these to your directories\n",
    "labels_dir = \"C:\\\\Users\\\\willo\\\\OneDrive - UNSW\\\\Documents\\\\Work\\\\CES\\\\Wild Deserts\\\\Image classification\\\\feedback_loop\\\\v1_day_160125\\\\labels\"\n",
    "images_dir = \"C:\\\\Users\\\\willo\\\\OneDrive - UNSW\\\\Documents\\\\Work\\\\CES\\\\Wild Deserts\\\\Image classification\\\\feedback_loop\\\\v1_day_160125\\\\images\"\n",
    "# Create \"labels\" and \"images\" folders in each directory\n",
    "for directory in [labels_dir, images_dir]:\n",
    "    os.makedirs(os.path.join(directory, \"val\"), exist_ok=True)\n",
    "    os.makedirs(os.path.join(directory, \"train\"), exist_ok=True)\n",
    "    #os.makedirs(os.path.join(directory, \"val\"), exist_ok=True)\n",
    "# Copy test images and labels. Note that this leaves the files in the original directories too\n",
    "for img_path in tqdm(X_val, desc=\"Copying val data\"):\n",
    "    \n",
    "    txt_path = img_path.replace(\".JPG\", \".txt\")\n",
    "    txt_path = txt_path.replace(\"images\", \"labels\")\n",
    "\n",
    "    shutil.copy(img_path, os.path.join(images_dir, \"val\"))\n",
    "    shutil.copy(txt_path, os.path.join(labels_dir, \"val\"))\n",
    "# Copy training images and labels\n",
    "for img_path in tqdm(X_train, desc=\"Copying training data\"):\n",
    "    txt_path = img_path.replace(\".JPG\", \".txt\")  # or .png, whichever you have\n",
    "    txt_path = txt_path.replace(\"images\", \"labels\")\n",
    "    shutil.copy(img_path, os.path.join(images_dir, \"train\"))\n",
    "    shutil.copy(txt_path, os.path.join(labels_dir, \"train\"))\n"
   ]
  },
  {
   "cell_type": "markdown",
   "metadata": {},
   "source": [
    "## Delete duplicate images from two directories"
   ]
  },
  {
   "cell_type": "code",
   "execution_count": null,
   "metadata": {
    "vscode": {
     "languageId": "python"
    }
   },
   "outputs": [],
   "source": [
    "import os\n",
    "\n",
    "# Define the directories\n",
    "dir2 = \"C:\\\\Users\\\\willo\\\\OneDrive - UNSW\\\\Documents\\\\Work\\\\CES\\\\Wild Deserts\\\\Image classification\\\\feedback_loop\\\\v1_night_16012025\\\\images\\\\val\"\n",
    "# Walk through all subdirectories in the root directory\n",
    "for root, dirs, files in os.walk(\"D:\\\\Wild deserts photos\\\\Reconyx\"):\n",
    "    # Get the list of image files in each subdirectory\n",
    "    images_dir1 = set(os.listdir(root))\n",
    "    images_dir2 = set(os.listdir(dir2))\n",
    "\n",
    "    # Find the intersection of the two sets\n",
    "    shared_images = images_dir1.intersection(images_dir2)\n",
    "\n",
    "    # Delete the shared images from the current subdirectory\n",
    "    for image in shared_images:\n",
    "        print(image)\n",
    "        image_path = os.path.join(root, image)\n",
    "        if os.path.exists(image_path):\n",
    "            os.remove(image_path)\n",
    "            print(f\"Deleted {image_path}\")\n"
   ]
  },
  {
   "cell_type": "markdown",
   "metadata": {},
   "source": [
    "## Check distribution of labels in directory \n",
    "- Need to remember to change the classes file and also the directory"
   ]
  },
  {
   "cell_type": "code",
   "execution_count": null,
   "metadata": {
    "vscode": {
     "languageId": "python"
    }
   },
   "outputs": [],
   "source": [
    "import os\n",
    "\n",
    "# Define the YOLO classes in the correct order\n",
    "CLASSES = [\n",
    "    \"Bird\", \n",
    "    \"Cat\", \n",
    "    \"Dingo\", \n",
    "    \"Echidna\", \n",
    "    \"Emu\", \n",
    "    \"Euro\", \n",
    "    \"Fox\", \n",
    "    \"Goat\", \n",
    "    \"Kangaroo\", \n",
    "    \"Other\", \n",
    "    \"Pig\", \n",
    "    \"Rabbit\", \n",
    "    \"Red Kangaroo\", \n",
    "    \"Small mammal\", \n",
    "    \"Western Grey Kangaroo\", \n",
    "    \"empty\"\n",
    "]\n",
    "\n",
    "# Path to your folder containing .txt annotation files\n",
    "folder_path = \"C:\\\\Users\\\\willo\\\\OneDrive - UNSW\\\\Documents\\\\Work\\\\CES\\\\Wild Deserts\\\\Image classification\\\\training\\\\model_training_no_split\\\\14_classes_b_plus_empty\\\\labels\"\n",
    "\n",
    "# Create a count dictionary initialized to zero for each class\n",
    "label_counts = {cls: 0 for cls in CLASSES}\n",
    "\n",
    "# Loop through all .txt files in the folder\n",
    "for filename in os.listdir(folder_path):\n",
    "    if filename.endswith(\".txt\"):\n",
    "        txt_file_path = os.path.join(folder_path, filename)\n",
    "        \n",
    "        with open(txt_file_path, \"r\") as file:\n",
    "            lines = file.readlines()\n",
    "            \n",
    "            # For each line in the .txt, extract the class index\n",
    "            for line in lines:\n",
    "                line = line.strip()\n",
    "                if line:\n",
    "                    class_index = int(line.split()[0])  # YOLO class index\n",
    "                    label_counts[CLASSES[class_index]] += 1\n",
    "\n",
    "# Print out the counts per class\n",
    "for cls_name, cls_count in label_counts.items():\n",
    "    print(f\"{cls_name}: {cls_count}\")\n"
   ]
  },
  {
   "cell_type": "markdown",
   "metadata": {},
   "source": [
    "Plot distribution"
   ]
  },
  {
   "cell_type": "code",
   "execution_count": null,
   "metadata": {
    "vscode": {
     "languageId": "python"
    }
   },
   "outputs": [],
   "source": [
    "import matplotlib.pyplot as plt\n",
    "plt.bar(range(len(label_counts)), list(label_counts.values()), align='center')\n",
    "plt.xticks(range(len(label_counts)), list(label_counts.keys()))\n",
    "plt.tick_params(axis='x', labelrotation=90) \n",
    "plt.figure(figsize=(10, 6))\n",
    "plt.show()"
   ]
  },
  {
   "cell_type": "code",
   "execution_count": null,
   "metadata": {
    "vscode": {
     "languageId": "python"
    }
   },
   "outputs": [],
   "source": []
  }
 ],
 "metadata": {
  "language_info": {
   "name": "plaintext"
  }
 },
 "nbformat": 4,
 "nbformat_minor": 2
}
